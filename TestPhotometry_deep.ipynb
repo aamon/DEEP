{
 "cells": [
  {
   "cell_type": "code",
   "execution_count": 1,
   "metadata": {},
   "outputs": [],
   "source": [
    "#! /usr/bin/env python\n",
    "# Test photometry\n",
    "# Simple plots eg. colour-colour\n",
    "# Match and compare deep data to wide, per galaxy\n",
    "\n",
    "from __future__ import print_function\n",
    "import os\n",
    "import numpy as np\n",
    "#from read_psf_cats import read_data, band_combinations\n",
    "import fitsio\n",
    "import treecorr\n",
    "import matplotlib\n",
    "#matplotlib.use('Agg')\n",
    "import matplotlib.pyplot as plt\n",
    "from astropy.io import fits\n",
    "import h5py as h\n",
    "from astropy.table import Table,join"
   ]
  },
  {
   "cell_type": "code",
   "execution_count": 63,
   "metadata": {},
   "outputs": [
    {
     "name": "stdout",
     "output_type": "stream",
     "text": [
      "Filename: /global/homes/a/aamon/DES/DEStests/DEEP/MOFcats/SN-C3/run-vd03-SN-C3_C01_r3688p01.fits\n",
      "No.    Name      Ver    Type      Cards   Dimensions   Format\n",
      "  0  PRIMARY       1 PrimaryHDU       6   ()      \n",
      "  1  model_fits    1 BinTableHDU     74   14324R x 31C   [K, D, D, K, J, 11A, E, 2D, D, 9J, 9D, 9D, 9D, 9D, J, J, D, 15D, 15D, 225D, 2D, 4D, D, D, D, 9D, 9D, 81D, 9D, D, D]   \n",
      "  2  epochs_data    1 BinTableHDU     17   190953R x 4C   [K, I, J, 18D]   \n",
      "<bound method HDUList.info of [<astropy.io.fits.hdu.image.PrimaryHDU object at 0x2aaae24a5350>, <astropy.io.fits.hdu.table.BinTableHDU object at 0x2aaae21e6150>, <astropy.io.fits.hdu.table.BinTableHDU object at 0x2aaadcf33d90>]>\n",
      "52.1259465115 52.4672947686\n",
      "ColDefs(\n",
      "    name = 'id'; format = 'K'\n",
      "    name = 'ra'; format = 'D'\n",
      "    name = 'dec'; format = 'D'\n",
      "    name = 'fof_id'; format = 'K'\n",
      "    name = 'flags'; format = 'J'\n",
      "    name = 'flagstr'; format = '11A'\n",
      "    name = 'masked_frac'; format = 'E'\n",
      "    name = 'psf_g'; format = '2D'\n",
      "    name = 'psf_T'; format = 'D'\n",
      "    name = 'psf_flux_flags'; format = '9J'\n",
      "    name = 'psf_flux'; format = '9D'\n",
      "    name = 'psf_mag'; format = '9D'\n",
      "    name = 'psf_flux_err'; format = '9D'\n",
      "    name = 'psf_flux_s2n'; format = '9D'\n",
      "    name = 'bdf_flags'; format = 'J'\n",
      "    name = 'bdf_nfev'; format = 'J'\n",
      "    name = 'bdf_s2n'; format = 'D'\n",
      "    name = 'bdf_pars'; format = '15D'\n",
      "    name = 'bdf_pars_err'; format = '15D'\n",
      "    name = 'bdf_pars_cov'; format = '225D'; dim = '(15,15)'\n",
      "    name = 'bdf_g'; format = '2D'\n",
      "    name = 'bdf_g_cov'; format = '4D'; dim = '(2,2)'\n",
      "    name = 'bdf_T'; format = 'D'\n",
      "    name = 'bdf_T_err'; format = 'D'\n",
      "    name = 'bdf_T_ratio'; format = 'D'\n",
      "    name = 'bdf_flux'; format = '9D'\n",
      "    name = 'bdf_mag'; format = '9D'\n",
      "    name = 'bdf_flux_cov'; format = '81D'; dim = '(9,9)'\n",
      "    name = 'bdf_flux_err'; format = '9D'\n",
      "    name = 'bdf_fracdev'; format = 'D'\n",
      "    name = 'bdf_fracdev_err'; format = 'D'\n",
      ")\n",
      "   bdf_mag   \n",
      "-------------\n",
      "23.6675714292\n",
      "25.3366989088\n",
      "20.7522290926\n",
      "25.4079351421\n",
      "23.2187596201\n",
      "25.5659576035\n",
      "25.1253881806\n",
      "-9999000000.0\n",
      "25.1168850498\n",
      "26.8379877298\n",
      "          ...\n",
      "-9999000000.0\n",
      "-9999000000.0\n",
      "-9999000000.0\n",
      "-9999000000.0\n",
      "-9999000000.0\n",
      "-9999000000.0\n",
      "-9999000000.0\n",
      "-9999000000.0\n",
      "-9999000000.0\n",
      "-9999000000.0\n",
      "-9999000000.0\n",
      "Length = 14324 rows\n",
      "13651\n",
      "13651\n"
     ]
    }
   ],
   "source": [
    "#read in Erin's catalogue\n",
    "cosmosfile='/global/homes/a/aamon/DES/DEStests/DEEP/MOFcats/SN-C3/run-vd03-SN-C3_C01_r3688p01.fits'\n",
    "\n",
    "data = fits.open(cosmosfile) \n",
    "data.info() \n",
    "print(data.info)\n",
    "deep=Table(data[1].data)\n",
    "print(min(deep['ra']),max(deep['ra']))\n",
    "\n",
    "cols = data[1].columns\n",
    "print(cols)\n",
    "\n",
    "print(deep['bdf_mag'][:,2]) #ugriz YJHKs\n",
    "#print(len(deep['mag_auto']))\n",
    "\n",
    "deepra=deep['ra']\n",
    "deepdec=deep['dec']\n",
    "deepu=deep['bdf_mag'][:,0]\n",
    "deepr=deep['bdf_mag'][:,2]\n",
    "deepi=deep['bdf_mag'][:,3]\n",
    "\n",
    "deepra=deepra[deepr>0]\n",
    "deepdec=deepdec[deepr>0]\n",
    "deepu=deepu[deepr>0]\n",
    "deepi=deepi[deepr>0]\n",
    "deepr=deepr[deepr>0]\n",
    "print(len(deepra))\n",
    "deepra=deepra[deepi>0]\n",
    "deepdec=deepdec[deepi>0]\n",
    "deepu=deepu[deepi>0]\n",
    "deepr=deepr[deepi>0]\n",
    "deepi=deepi[deepi>0]\n",
    "print(len(deepra))\n",
    "\n",
    "#print(deep['id'])\n",
    "#print(deep['ra'])\n",
    "\n",
    "#ASSUMING MAGS ARE UGRI YJHKS"
   ]
  },
  {
   "cell_type": "code",
   "execution_count": 1,
   "metadata": {},
   "outputs": [
    {
     "ename": "NameError",
     "evalue": "name 'plt' is not defined",
     "output_type": "error",
     "traceback": [
      "\u001b[0;31m\u001b[0m",
      "\u001b[0;31mNameError\u001b[0mTraceback (most recent call last)",
      "\u001b[0;32m<ipython-input-1-66df08f63e28>\u001b[0m in \u001b[0;36m<module>\u001b[0;34m()\u001b[0m\n\u001b[1;32m      1\u001b[0m \u001b[0;31m#colour-colour\u001b[0m\u001b[0;34m\u001b[0m\u001b[0;34m\u001b[0m\u001b[0m\n\u001b[0;32m----> 2\u001b[0;31m \u001b[0mplt\u001b[0m\u001b[0;34m.\u001b[0m\u001b[0mscatter\u001b[0m\u001b[0;34m(\u001b[0m\u001b[0mdeep\u001b[0m\u001b[0;34m[\u001b[0m\u001b[0;34m'bdf_mag'\u001b[0m\u001b[0;34m]\u001b[0m\u001b[0;34m[\u001b[0m\u001b[0;36m2\u001b[0m\u001b[0;34m]\u001b[0m\u001b[0;34m-\u001b[0m\u001b[0mdeep\u001b[0m\u001b[0;34m[\u001b[0m\u001b[0;34m'bdf_mag'\u001b[0m\u001b[0;34m]\u001b[0m\u001b[0;34m[\u001b[0m\u001b[0;36m3\u001b[0m\u001b[0;34m]\u001b[0m\u001b[0;34m,\u001b[0m\u001b[0mdeep\u001b[0m\u001b[0;34m[\u001b[0m\u001b[0;34m'bdf_mag'\u001b[0m\u001b[0;34m]\u001b[0m\u001b[0;34m[\u001b[0m\u001b[0;36m1\u001b[0m\u001b[0;34m]\u001b[0m\u001b[0;34m-\u001b[0m\u001b[0mdeep\u001b[0m\u001b[0;34m[\u001b[0m\u001b[0;34m'bdf_mag'\u001b[0m\u001b[0;34m]\u001b[0m\u001b[0;34m[\u001b[0m\u001b[0;36m2\u001b[0m\u001b[0;34m]\u001b[0m\u001b[0;34m,\u001b[0m \u001b[0mmarker\u001b[0m\u001b[0;34m=\u001b[0m\u001b[0;34m'.'\u001b[0m\u001b[0;34m)\u001b[0m \u001b[0;31m#,markersize=10 )\u001b[0m\u001b[0;34m\u001b[0m\u001b[0m\n\u001b[0m\u001b[1;32m      3\u001b[0m \u001b[0mplt\u001b[0m\u001b[0;34m.\u001b[0m\u001b[0mxlabel\u001b[0m\u001b[0;34m(\u001b[0m\u001b[0;34m'r-i'\u001b[0m\u001b[0;34m)\u001b[0m\u001b[0;34m\u001b[0m\u001b[0m\n\u001b[1;32m      4\u001b[0m \u001b[0mplt\u001b[0m\u001b[0;34m.\u001b[0m\u001b[0mylabel\u001b[0m\u001b[0;34m(\u001b[0m\u001b[0;34m'g-r'\u001b[0m\u001b[0;34m)\u001b[0m\u001b[0;34m\u001b[0m\u001b[0m\n",
      "\u001b[0;31mNameError\u001b[0m: name 'plt' is not defined"
     ]
    }
   ],
   "source": [
    "#colour-colour\n",
    "plt.scatter(deep['bdf_mag'][2]-deep['bdf_mag'][3],deep['bdf_mag'][1]-deep['bdf_mag'][2], marker='.') #,markersize=10 )\n",
    "plt.xlabel('r-i')\n",
    "plt.ylabel('g-r')"
   ]
  },
  {
   "cell_type": "code",
   "execution_count": 13,
   "metadata": {},
   "outputs": [
    {
     "name": "stdout",
     "output_type": "stream",
     "text": [
      "[u'metacal', u'gold', u'bpz', u'dnf', u'redmagic', u'redmapper']\n",
      "[u'a_sed_sfd98_g', u'a_sed_sfd98_i', u'a_sed_sfd98_r', u'a_sed_sfd98_z', u'coadd_object_id', u'dec', u'delta_mag_chrom_g', u'delta_mag_chrom_i', u'delta_mag_chrom_r', u'delta_mag_chrom_z', u'delta_mag_y4_g', u'delta_mag_y4_i', u'delta_mag_y4_r', u'delta_mag_y4_z', u'ebv_sfd98', u'flags', u'flags_badregions', u'flags_footprint', u'flags_foreground', u'flags_gold', u'flags_phot', u'hpix_16384', u'n_images_g', u'n_images_i', u'n_images_r', u'n_images_z', u'ra', u'sextractor_flags_g', u'sextractor_flags_i', u'sextractor_flags_r', u'sextractor_flags_z', u'sof_cm_flux_corrected_g', u'sof_cm_flux_corrected_i', u'sof_cm_flux_corrected_r', u'sof_cm_flux_corrected_z', u'sof_cm_flux_err_g', u'sof_cm_flux_err_i', u'sof_cm_flux_err_r', u'sof_cm_flux_err_z', u'sof_cm_mag_corrected_g', u'sof_cm_mag_corrected_i', u'sof_cm_mag_corrected_r', u'sof_cm_mag_corrected_z', u'sof_cm_mag_err_g', u'sof_cm_mag_err_i', u'sof_cm_mag_err_r', u'sof_cm_mag_err_z', u'sof_flags', u'tilename']\n",
      "<HDF5 dataset \"coadd_object_id\": shape (399263026,), type \">i8\">\n",
      "399263026\n"
     ]
    },
    {
     "name": "stderr",
     "output_type": "stream",
     "text": [
      "/global/u2/a/aamon/.conda/envs/DESenv/lib/python2.7/site-packages/ipykernel_launcher.py:26: RuntimeWarning: divide by zero encountered in log10\n",
      "/global/u2/a/aamon/.conda/envs/DESenv/lib/python2.7/site-packages/ipykernel_launcher.py:26: RuntimeWarning: invalid value encountered in log10\n",
      "/global/u2/a/aamon/.conda/envs/DESenv/lib/python2.7/site-packages/ipykernel_launcher.py:27: RuntimeWarning: divide by zero encountered in log10\n",
      "/global/u2/a/aamon/.conda/envs/DESenv/lib/python2.7/site-packages/ipykernel_launcher.py:27: RuntimeWarning: invalid value encountered in log10\n",
      "/global/u2/a/aamon/.conda/envs/DESenv/lib/python2.7/site-packages/ipykernel_launcher.py:28: RuntimeWarning: divide by zero encountered in log10\n",
      "/global/u2/a/aamon/.conda/envs/DESenv/lib/python2.7/site-packages/ipykernel_launcher.py:28: RuntimeWarning: invalid value encountered in log10\n"
     ]
    },
    {
     "name": "stdout",
     "output_type": "stream",
     "text": [
      "399263026\n",
      "1.52399081799e-06\n",
      "359.999999531\n"
     ]
    },
    {
     "name": "stderr",
     "output_type": "stream",
     "text": [
      "/global/u2/a/aamon/.conda/envs/DESenv/lib/python2.7/site-packages/ipykernel_launcher.py:40: RuntimeWarning: invalid value encountered in less\n",
      "/global/u2/a/aamon/.conda/envs/DESenv/lib/python2.7/site-packages/ipykernel_launcher.py:40: RuntimeWarning: invalid value encountered in greater\n",
      "/global/u2/a/aamon/.conda/envs/DESenv/lib/python2.7/site-packages/ipykernel_launcher.py:41: RuntimeWarning: invalid value encountered in less\n",
      "/global/u2/a/aamon/.conda/envs/DESenv/lib/python2.7/site-packages/ipykernel_launcher.py:41: RuntimeWarning: invalid value encountered in greater\n",
      "/global/u2/a/aamon/.conda/envs/DESenv/lib/python2.7/site-packages/ipykernel_launcher.py:42: RuntimeWarning: invalid value encountered in less\n",
      "/global/u2/a/aamon/.conda/envs/DESenv/lib/python2.7/site-packages/ipykernel_launcher.py:42: RuntimeWarning: invalid value encountered in greater\n",
      "/global/u2/a/aamon/.conda/envs/DESenv/lib/python2.7/site-packages/ipykernel_launcher.py:43: RuntimeWarning: invalid value encountered in less\n",
      "/global/u2/a/aamon/.conda/envs/DESenv/lib/python2.7/site-packages/ipykernel_launcher.py:43: RuntimeWarning: invalid value encountered in greater\n",
      "/global/u2/a/aamon/.conda/envs/DESenv/lib/python2.7/site-packages/ipykernel_launcher.py:44: RuntimeWarning: invalid value encountered in less\n",
      "/global/u2/a/aamon/.conda/envs/DESenv/lib/python2.7/site-packages/ipykernel_launcher.py:44: RuntimeWarning: invalid value encountered in greater\n"
     ]
    },
    {
     "name": "stdout",
     "output_type": "stream",
     "text": [
      "386507259\n",
      "[[  4.50014413e+01   3.70761157e-03   2.19896551e+01   2.16150501e+01\n",
      "    2.12456644e+01]\n",
      " [  4.49972535e+01   1.04404433e-02   2.18234535e+01   2.06837332e+01\n",
      "    2.01906007e+01]\n",
      " [  4.49971163e+01   9.44756779e-03   2.30809067e+01   2.32646955e+01\n",
      "    2.25322793e+01]\n",
      " ..., \n",
      " [ -4.36099674e+01  -1.18839131e+00   2.49294658e+01   2.29473335e+01\n",
      "    2.25773147e+01]\n",
      " [ -4.36099435e+01  -1.18586508e+00   2.62731173e+01   2.34795196e+01\n",
      "    2.30166985e+01]\n",
      " [ -4.36069619e+01  -1.18399895e+00   2.05802013e+01   2.04590621e+01\n",
      "    2.03480711e+01]]\n",
      "[[ 89.99772585 -41.80689499  22.61621892  21.60077925  21.16378588]\n",
      " [ 90.00194925 -41.80401195  23.65083783  22.78437632  22.50782518]\n",
      " [ 90.00101578 -41.80386767  22.71179347  22.66952665  22.38759533]\n",
      " ..., \n",
      " [ 93.81784327 -37.59796777  22.63541441  22.30272492  22.29210819]\n",
      " [ 93.82235842 -37.59980864  25.76554188  23.12136215  22.49484535]\n",
      " [ 93.82618738 -37.59954432  23.85815557  23.52793816  23.7837248 ]]\n",
      "119695426\n"
     ]
    }
   ],
   "source": [
    "#read in gold \n",
    "catname = '/global/cscratch1/sd/troxel/cats_des_y3/Y3_mastercat_v2_6_20_18.h5'\n",
    "\n",
    "f = h.File(catname,'r')\n",
    "print(f['catalog'].keys())\n",
    "print(f['catalog/gold'].keys())\n",
    "print(f['catalog/gold/coadd_object_id'])\n",
    "\n",
    "#FLAGS_GOLD  If you are using SExtractor quantities, you should add (FLAGS_GOLD & 1111000) = 0; and (FLAGS_BADREGIONS & 01) = 0\n",
    "\n",
    "#gflag = np.array(f['catalog/gold/flags_gold'])\n",
    "#print(gflag)\n",
    "\n",
    "ra = np.array(f['catalog/gold/ra'])#[star_mask] \n",
    "dec = np.array(f['catalog/gold/dec'])#[star_mask]\n",
    "print(len(ra))\n",
    "\n",
    "\"\"\"#cosmos only\n",
    "ra=ra[(ra<53)] # & (ra>49)]\n",
    "#dec=dec[cosmosonly]\n",
    "print(len(ra))\n",
    "ra=ra[(ra>51)]\n",
    "print(len(ra))\"\"\"\n",
    "\n",
    "zeropt=30\n",
    "r = zeropt- 2.5*np.log10(np.array(f['catalog/gold/sof_cm_flux_corrected_r']))#[star_mask]\n",
    "i = zeropt- 2.5*np.log10(np.array(f['catalog/gold/sof_cm_flux_corrected_i']))#[star_mask]\n",
    "z = zeropt- 2.5*np.log10(np.array(f['catalog/gold/sof_cm_flux_corrected_z']))#[star_mask]\n",
    "\n",
    "print(len(r))\n",
    "\n",
    "\"\"\"cosmosonly=np.where(  (ra<max(deep['ra'])) & (ra>min(deep['ra']))\n",
    "               &  (dec<max(deep['dec'])) & (dec>min(deep['dec']))   )\n",
    "i=i[cosmosonly]\n",
    "z=z[cosmosonly]\n",
    "r=r[cosmosonly]\n",
    "print(len(r))\"\"\"\n",
    "print(min(ra)) \n",
    "print(max(ra))\n",
    "ra=ra[np.where((i<30) & (i>0))]\n",
    "dec=dec[np.where((i<30)& (i>0))]\n",
    "z=z[np.where((i<30)& (i>0))]\n",
    "r=r[np.where((i<30)& (i>0))]\n",
    "i=i[np.where((i<30)& (i>0))]\n",
    "print(len(ra))\n",
    "\n",
    "ra[ra > 180] -= 360\n",
    "\n",
    "gold=np.column_stack((ra,dec,r,i,z))\n",
    "print(gold)\n",
    "#gold = gold[gold[:,0].argsort()][:1000000]\n",
    "\n",
    "gold=gold[np.where(ra>min(deep['ra']))]\n",
    "#,max(deep['ra'])\n",
    "\n",
    "print(gold)\n",
    "print(len(gold))\n",
    "goldra=gold[:,0]\n",
    "golddec=gold[:,1]\n",
    "goldr=gold[:,2]\n",
    "goldi=gold[:,3]\n",
    "goldz=gold[:,4]\n"
   ]
  },
  {
   "cell_type": "code",
   "execution_count": 64,
   "metadata": {},
   "outputs": [
    {
     "name": "stdout",
     "output_type": "stream",
     "text": [
      "[ 52.18049819  52.22298942  52.43635611 ...,  52.16240088  52.21186369\n",
      "  52.304274  ]\n"
     ]
    }
   ],
   "source": [
    "#match galaxies by ra and dec\n",
    "\n",
    "from astropy.coordinates import SkyCoord\n",
    "from astropy import units as u\n",
    "\n",
    "goldcat = SkyCoord(ra=goldra*u.degree, dec=golddec*u.degree)  \n",
    "catalog = SkyCoord(ra=deepra*u.degree, dec=deepdec*u.degree)  \n",
    "idx, d2d, d3d = catalog.match_to_catalog_sky(goldcat, nthneighbor=1) \n",
    "\n",
    "print(goldra[idx])\n"
   ]
  },
  {
   "cell_type": "code",
   "execution_count": 33,
   "metadata": {},
   "outputs": [
    {
     "name": "stdout",
     "output_type": "stream",
     "text": [
      "119695426\n",
      "14324\n",
      "14324\n",
      "[0d00m00.1902s 0d00m10.9245s 0d00m00.1917s ..., 0d00m00.3442s 0d00m00.7848s\n",
      " 0d00m01.2989s]\n",
      "[  0.19017308  10.92449632   0.19169229 ...,   0.34423708   0.78480641\n",
      "   1.29890448]\n",
      "      ra     \n",
      "-------------\n",
      "52.1805378642\n",
      "52.4364117585\n",
      "52.2805617589\n",
      " 52.164644634\n",
      "52.1447445346\n",
      "52.2410897734\n",
      "52.3659471404\n",
      "52.2242971836\n",
      "52.2367092019\n",
      "52.4147602403\n",
      "          ...\n",
      "52.2407779981\n",
      "52.2840828841\n",
      "52.2950435736\n",
      "52.2239417327\n",
      "52.1442153079\n",
      " 52.337025648\n",
      "52.4525741636\n",
      "52.4303337872\n",
      "52.3934220356\n",
      "52.3923512808\n",
      " 52.419235322\n",
      "Length = 12556 rows\n"
     ]
    },
    {
     "data": {
      "image/png": "[encoded data removed]",
      "text/plain": [
       "<matplotlib.figure.Figure at 0x2aaae246f710>"
      ]
     },
     "metadata": {
      "needs_background": "light"
     },
     "output_type": "display_data"
    }
   ],
   "source": [
    "print(len(goldra)) \n",
    "print(len(deep['bdf_mag'])) \n",
    "print(len(d2d))  \n",
    "print(d2d)\n",
    "print(d2d.arcsecond)\n",
    "plt.hist(d2d.arcsecond, 50, range=(0, 20)) #20 is the max matching range in arcmin\n",
    "plt.xlabel('d2d (arcsec)')\n",
    "print(deepra[d2d.arcsecond < 10])"
   ]
  },
  {
   "cell_type": "code",
   "execution_count": 111,
   "metadata": {},
   "outputs": [
    {
     "name": "stdout",
     "output_type": "stream",
     "text": [
      "52.1265004557 52.4702336985\n",
      "52.1286573029 52.4666005786\n"
     ]
    },
    {
     "data": {
      "image/png": "[encoded data removed]",
      "text/plain": [
       "<matplotlib.figure.Figure at 0x2aaba8edf210>"
      ]
     },
     "metadata": {
      "needs_background": "light"
     },
     "output_type": "display_data"
    }
   ],
   "source": [
    "matchlim=2\n",
    "plt.scatter(deepra[np.where(d2d.arcsecond < matchlim)]-goldra[idx][np.where(d2d.arcsecond < matchlim)],deepra[np.where(d2d.arcsecond < matchlim)], marker='.')\n",
    "plt.xlabel('DEEP RA-GOLD RA')\n",
    "plt.ylabel('DEEP RA')\n",
    "plt.ticklabel_format(useOffset=False)\n",
    "#plt.xlim(min(goldra[idx][np.where(d2d < matchlim)]),max(goldra[idx][np.where(d2d < matchlim)]) )\n",
    "plt.ylim(min(deepra[np.where(d2d.arcsecond < matchlim)]),max(deepra[np.where(d2d.arcsecond < matchlim)]) )\n",
    "plt.xlim(min(deepra[np.where(d2d.arcsecond < matchlim)]-goldra[idx][np.where(d2d.arcsecond < matchlim)]),max(deepra[np.where(d2d.arcsecond < matchlim)]-goldra[idx][np.where(d2d.arcsecond < matchlim)]) )\n",
    "print(min(goldra[idx]),max(goldra[idx]) )\n",
    "print(min(deepra),max(deepra))"
   ]
  },
  {
   "cell_type": "code",
   "execution_count": 112,
   "metadata": {},
   "outputs": [
    {
     "name": "stdout",
     "output_type": "stream",
     "text": [
      "percentage matched:  25.6904256098\n",
      "13651\n",
      "13651\n"
     ]
    },
    {
     "data": {
      "text/plain": [
       "<matplotlib.text.Text at 0x2aaba8e4ff90>"
      ]
     },
     "execution_count": 112,
     "metadata": {},
     "output_type": "execute_result"
    },
    {
     "data": {
      "image/png": "[encoded data removed]",
      "text/plain": [
       "<matplotlib.figure.Figure at 0x2aaba8c9c510>"
      ]
     },
     "metadata": {
      "needs_background": "light"
     },
     "output_type": "display_data"
    }
   ],
   "source": [
    "#plot magnitudes\n",
    "#print(len(goldr[idx][np.where(d2d.arcsecond < matchlim)]))\n",
    "#print(len(deep['bdf_mag'][np.where(d2d.arcsecond < matchlim)]))\n",
    "\n",
    "#3372/14324  #gold matches/all deep ~quarter\n",
    "print(\"percentage matched: \", float(len(deepr[np.where(d2d.arcsecond < matchlim)]))/float(len(deepr))*100.)\n",
    "#fit = np.polyfit(goldr[idx][np.where(d2d.arcsecond < matchlim)], deepr[np.where(d2d.arcsecond < matchlim)], 1)\n",
    "#fit_fn = np.poly1d(fit) \n",
    "# fit_fn is now a function which takes in x and returns an estimate for y\n",
    "print(len(deepr))\n",
    "print(len(deepr[deepr>0]))\n",
    "#plt.plot(goldr[idx][np.where(d2d.arcsecond < matchlim)], fit_fn(goldr[idx][np.where(d2d.arcsecond < matchlim)]), '--k')\n",
    "x = np.linspace(14, 40, 1000)\n",
    "plt.plot(x,x,color='red')\n",
    "plt.scatter(goldr[idx][np.where(d2d.arcsecond < matchlim)], deepr[np.where(d2d.arcsecond < matchlim)], marker='.', facecolors='lightblue', color='blue',alpha=0.5)\n",
    "plt.xlim(14,27)\n",
    "plt.ylim(16,38)\n",
    "plt.xlabel('GOLD r')\n",
    "plt.ylabel('DEEP r')"
   ]
  },
  {
   "cell_type": "code",
   "execution_count": 113,
   "metadata": {},
   "outputs": [
    {
     "data": {
      "text/plain": [
       "<matplotlib.text.Text at 0x2aaae4655650>"
      ]
     },
     "execution_count": 113,
     "metadata": {},
     "output_type": "execute_result"
    },
    {
     "data": {
      "image/png": "[encoded data removed]",
      "text/plain": [
       "<matplotlib.figure.Figure at 0x2aaba8d702d0>"
      ]
     },
     "metadata": {
      "needs_background": "light"
     },
     "output_type": "display_data"
    }
   ],
   "source": [
    "#plot magnitudes\n",
    "\n",
    "#fit = np.polyfit(goldr[idx][np.where(d2d.arcsecond < matchlim)], deepr[np.where(d2d.arcsecond < matchlim)], 1)\n",
    "#fit_fn = np.poly1d(fit) \n",
    "# fit_fn is now a function which takes in x and returns an estimate for y\n",
    "#plt.plot(goldr[idx][np.where(d2d.arcsecond < matchlim)], fit_fn(goldr[idx][np.where(d2d.arcsecond < matchlim)]), '--k')\n",
    "x = np.linspace(14, 40, 1000)\n",
    "plt.plot(x,x,color='red')\n",
    "plt.scatter(goldi[idx][np.where(d2d.arcsecond < matchlim)], deepi[np.where(d2d.arcsecond < matchlim)], marker='.', facecolors='lightblue', color='blue',alpha=0.5)\n",
    "plt.xlim(15,31)\n",
    "plt.ylim(15,30)\n",
    "plt.xlabel('GOLD i')\n",
    "plt.ylabel('DEEP i')"
   ]
  },
  {
   "cell_type": "code",
   "execution_count": 114,
   "metadata": {},
   "outputs": [
    {
     "data": {
      "text/plain": [
       "<matplotlib.text.Text at 0x2aaba9026ed0>"
      ]
     },
     "execution_count": 114,
     "metadata": {},
     "output_type": "execute_result"
    },
    {
     "data": {
      "image/png": "[encoded data removed]",
      "text/plain": [
       "<matplotlib.figure.Figure at 0x2aaba8d7ac10>"
      ]
     },
     "metadata": {
      "needs_background": "light"
     },
     "output_type": "display_data"
    }
   ],
   "source": [
    "plt.hist(deepi, 50, range=(15, 30))\n",
    "plt.hist(deepi[np.where(d2d.arcsecond < matchlim)], 50, range=(15, 30))\n",
    "plt.xlabel('i')"
   ]
  },
  {
   "cell_type": "code",
   "execution_count": 2,
   "metadata": {},
   "outputs": [
    {
     "ename": "NameError",
     "evalue": "name 'plt' is not defined",
     "output_type": "error",
     "traceback": [
      "\u001b[0;31m\u001b[0m",
      "\u001b[0;31mNameError\u001b[0mTraceback (most recent call last)",
      "\u001b[0;32m<ipython-input-2-b23df1a3d01c>\u001b[0m in \u001b[0;36m<module>\u001b[0;34m()\u001b[0m\n\u001b[0;32m----> 1\u001b[0;31m \u001b[0mplt\u001b[0m\u001b[0;34m.\u001b[0m\u001b[0mhist\u001b[0m\u001b[0;34m(\u001b[0m\u001b[0mdeepi\u001b[0m\u001b[0;34m[\u001b[0m\u001b[0mnp\u001b[0m\u001b[0;34m.\u001b[0m\u001b[0mwhere\u001b[0m\u001b[0;34m(\u001b[0m\u001b[0md2d\u001b[0m\u001b[0;34m.\u001b[0m\u001b[0marcsecond\u001b[0m \u001b[0;34m<\u001b[0m \u001b[0mmatchlim\u001b[0m\u001b[0;34m)\u001b[0m\u001b[0;34m]\u001b[0m\u001b[0;34m-\u001b[0m\u001b[0mgoldi\u001b[0m\u001b[0;34m[\u001b[0m\u001b[0midx\u001b[0m\u001b[0;34m]\u001b[0m\u001b[0;34m[\u001b[0m\u001b[0mnp\u001b[0m\u001b[0;34m.\u001b[0m\u001b[0mwhere\u001b[0m\u001b[0;34m(\u001b[0m\u001b[0md2d\u001b[0m\u001b[0;34m.\u001b[0m\u001b[0marcsecond\u001b[0m \u001b[0;34m<\u001b[0m \u001b[0mmatchlim\u001b[0m\u001b[0;34m)\u001b[0m\u001b[0;34m]\u001b[0m\u001b[0;34m,\u001b[0m \u001b[0;36m50\u001b[0m\u001b[0;34m,\u001b[0m \u001b[0mrange\u001b[0m\u001b[0;34m=\u001b[0m\u001b[0;34m(\u001b[0m\u001b[0;34m-\u001b[0m\u001b[0;36m1\u001b[0m\u001b[0;34m,\u001b[0m \u001b[0;36m1\u001b[0m\u001b[0;34m)\u001b[0m\u001b[0;34m)\u001b[0m\u001b[0;34m\u001b[0m\u001b[0m\n\u001b[0m\u001b[1;32m      2\u001b[0m \u001b[0mlt\u001b[0m\u001b[0;34m.\u001b[0m\u001b[0maxvline\u001b[0m\u001b[0;34m(\u001b[0m\u001b[0mx\u001b[0m\u001b[0;34m=\u001b[0m\u001b[0;36m0\u001b[0m\u001b[0;34m)\u001b[0m\u001b[0;34m\u001b[0m\u001b[0m\n\u001b[1;32m      3\u001b[0m \u001b[0;31m#plt.hist(deepi[np.where(d2d.arcsecond < matchlim)], 50, range=(15, 30))\u001b[0m\u001b[0;34m\u001b[0m\u001b[0;34m\u001b[0m\u001b[0m\n\u001b[1;32m      4\u001b[0m \u001b[0mplt\u001b[0m\u001b[0;34m.\u001b[0m\u001b[0mxlabel\u001b[0m\u001b[0;34m(\u001b[0m\u001b[0;34m'delta i'\u001b[0m\u001b[0;34m)\u001b[0m\u001b[0;34m\u001b[0m\u001b[0m\n",
      "\u001b[0;31mNameError\u001b[0m: name 'plt' is not defined"
     ]
    }
   ],
   "source": [
    "plt.hist(deepi[np.where(d2d.arcsecond < matchlim)]-goldi[idx][np.where(d2d.arcsecond < matchlim)], 50, range=(-1, 1))\n",
    "lt.axvline(x=0)\n",
    "#plt.hist(deepi[np.where(d2d.arcsecond < matchlim)], 50, range=(15, 30))\n",
    "plt.xlabel('delta i')"
   ]
  },
  {
   "cell_type": "code",
   "execution_count": null,
   "metadata": {},
   "outputs": [],
   "source": []
  }
 ],
 "metadata": {
  "kernelspec": {
   "display_name": "desenv",
   "language": "python",
   "name": "desenv"
  },
  "language_info": {
   "codemirror_mode": {
    "name": "ipython",
    "version": 2
   },
   "file_extension": ".py",
   "mimetype": "text/x-python",
   "name": "python",
   "nbconvert_exporter": "python",
   "pygments_lexer": "ipython2",
   "version": "2.7.15"
  }
 },
 "nbformat": 4,
 "nbformat_minor": 2
}
