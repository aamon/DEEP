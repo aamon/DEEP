{
 "cells": [
  {
   "cell_type": "code",
   "execution_count": 51,
   "metadata": {},
   "outputs": [],
   "source": [
    "from __future__ import print_function\n",
    "import pickle\n",
    "import numpy as np\n",
    "import pandas as pd\n",
    "import matplotlib as mpl\n",
    "try:\n",
    "    import matplotlib.pyplot as plt\n",
    "except:\n",
    "    mpl.use(\"Agg\")\n",
    "    import matplotlib.pyplot as plt\n",
    "    \n",
    "import fitsio as fio    \n",
    "import ngmix.medsreaders\n",
    "import ngmix\n",
    "import galsim\n",
    "import galsim.des\n",
    "import images"
   ]
  },
  {
   "cell_type": "markdown",
   "metadata": {},
   "source": [
    "# Prepare DATA"
   ]
  },
  {
   "cell_type": "markdown",
   "metadata": {},
   "source": [
    "## MEDS file paths"
   ]
  },
  {
   "cell_type": "code",
   "execution_count": 4,
   "metadata": {},
   "outputs": [],
   "source": [
    "meds_g_path = \"/e/eser2/vargatn/DES/Y3_DATA/DEEP3/SN-C3_C01_r3688p01/SN-C3_C01_r3688p01_g_meds-Y3A2_DEEP.fits.fz\"\n",
    "meds_r_path = \"/e/eser2/vargatn/DES/Y3_DATA/DEEP3/SN-C3_C01_r3688p01/SN-C3_C01_r3688p01_r_meds-Y3A2_DEEP.fits.fz\"\n",
    "meds_i_path = \"/e/eser2/vargatn/DES/Y3_DATA/DEEP3/SN-C3_C01_r3688p01/SN-C3_C01_r3688p01_i_meds-Y3A2_DEEP.fits.fz\""
   ]
  },
  {
   "cell_type": "code",
   "execution_count": 5,
   "metadata": {},
   "outputs": [],
   "source": [
    "meds_paths = [\n",
    "    meds_g_path,\n",
    "    meds_r_path,\n",
    "    meds_i_path,\n",
    "]\n",
    "mms = [ngmix.medsreaders.NGMixMEDS(path) for path in meds_paths]"
   ]
  },
  {
   "cell_type": "markdown",
   "metadata": {},
   "source": [
    "## PSFex files path"
   ]
  },
  {
   "cell_type": "code",
   "execution_count": 6,
   "metadata": {},
   "outputs": [],
   "source": [
    "psfex_g_path = \"/e/eser2/vargatn/DES/Y3_DATA/DEEP3/SN-C3_C01_r3688p01/SN-C3_C01_r3688p01_g_psfcat.psf\"\n",
    "psfex_r_path = \"/e/eser2/vargatn/DES/Y3_DATA/DEEP3/SN-C3_C01_r3688p01/SN-C3_C01_r3688p01_r_psfcat.psf\"\n",
    "psfex_i_path = \"/e/eser2/vargatn/DES/Y3_DATA/DEEP3/SN-C3_C01_r3688p01/SN-C3_C01_r3688p01_i_psfcat.psf\""
   ]
  },
  {
   "cell_type": "code",
   "execution_count": 7,
   "metadata": {},
   "outputs": [],
   "source": [
    "psfex_paths = [\n",
    "    psfex_g_path,\n",
    "    psfex_r_path,\n",
    "    psfex_i_path,\n",
    "]"
   ]
  },
  {
   "cell_type": "markdown",
   "metadata": {},
   "source": [
    "## MOF path"
   ]
  },
  {
   "cell_type": "code",
   "execution_count": 52,
   "metadata": {},
   "outputs": [],
   "source": [
    "fname = \"/e/eser2/vargatn/DES/Y3_DATA/DEEP3/run-d02-SN-C3_C01_r3688p01.fits\"\n",
    "allmofs = fio.read(fname)"
   ]
  },
  {
   "cell_type": "markdown",
   "metadata": {},
   "source": [
    "# Renderer class"
   ]
  },
  {
   "cell_type": "code",
   "execution_count": 53,
   "metadata": {},
   "outputs": [],
   "source": [
    "nbands = allmofs[\"bdf_flux\"].shape[1]"
   ]
  },
  {
   "cell_type": "code",
   "execution_count": 54,
   "metadata": {},
   "outputs": [],
   "source": [
    "pars = allmofs[\"bdf_pars\"][0, :-nbands]"
   ]
  },
  {
   "cell_type": "code",
   "execution_count": 55,
   "metadata": {},
   "outputs": [
    {
     "data": {
      "text/plain": [
       "'<'"
      ]
     },
     "execution_count": 55,
     "metadata": {},
     "output_type": "execute_result"
    }
   ],
   "source": [
    "mms[1][\"id\"].byteswap().newbyteorder().dtype.byteorder"
   ]
  },
  {
   "cell_type": "code",
   "execution_count": 56,
   "metadata": {},
   "outputs": [
    {
     "data": {
      "text/plain": [
       "'>'"
      ]
     },
     "execution_count": 56,
     "metadata": {},
     "output_type": "execute_result"
    }
   ],
   "source": [
    "allmofs[\"id\"].dtype.byteorder"
   ]
  },
  {
   "cell_type": "code",
   "execution_count": null,
   "metadata": {},
   "outputs": [],
   "source": []
  },
  {
   "cell_type": "code",
   "execution_count": 216,
   "metadata": {},
   "outputs": [],
   "source": [
    "class ComparePostage():\n",
    "    _icutout = 0\n",
    "    _bands = (\"g\", \"r\", \"i\", \"z\")\n",
    "    def __init__(self, moftab, mms, psfex_files=None, mode=\"bdf\"):\n",
    "        \"\"\"\n",
    "        Currently this works in both bdf and cm\n",
    "        \n",
    "        It is assumed that the psf is not in the MEDS file, but is in an external psfex file\n",
    "        \n",
    "        Parameters:\n",
    "        -----------\n",
    "        moftab: record_array\n",
    "            MOF rows to render\n",
    "        mms: list\n",
    "            list of ngmix.medsreaders.NGMixMEDS objects, one for each band\n",
    "        psfex_files: list\n",
    "            list of psfex file paths corresponding to each MEDS files\n",
    "            \n",
    "        \"\"\"\n",
    "        \n",
    "        self.mof = moftab\n",
    "        self.mms = mms\n",
    "        self.psfex_files = psfex_files\n",
    "        \n",
    "        self.medsrow = self._get_indexarray()\n",
    "        \n",
    "        self.mode = mode\n",
    "        if self.mode == \"bdf\":\n",
    "            self.fluxcol = \"bdf_flux\"\n",
    "        elif self.mode == \"cm\":\n",
    "            self.fluxcol = \"cm_flux\"\n",
    "        else: \n",
    "            raise KeyError(\"only bdf or cm mode is supported in the moment\")\n",
    "            \n",
    "        self.nbands = self.mof[self.fluxcol].shape[1]\n",
    "        \n",
    "    def _get_indexarray(self):\n",
    "        col1 = mof[\"id\"]\n",
    "        col2 = self.mms[0][\"id\"]\n",
    "        \n",
    "#         if col\n",
    "        \n",
    "        imof = pd.DataFrame()\n",
    "        imof[\"mofid\"] = col1.byteswap().newbyteorder()\n",
    "        \n",
    "        imeds = pd.DataFrame()\n",
    "        imeds[\"medsid\"] = col2.byteswap().newbyteorder()\n",
    "        imeds[\"medsrow\"] = np.arange(len(col2)) \n",
    "        \n",
    "        tmp = pd.merge(imof, imeds, how=\"inner\", left_on=\"mofid\", right_on=\"medsid\")\n",
    "        return tmp[\"medsrow\"].values       \n",
    "        \n",
    "    def get_cutouts(self, iobj, iband, seg=False):\n",
    "        \"\"\"\n",
    "        iobj should refer to the id in the mof file,\n",
    "        and we should look up here which meds line it corresponds to. this is stored in self.medsrow\n",
    "        \"\"\"\n",
    "        m = self.mms[iband]\n",
    " \n",
    "        imeds = self.medsrow[iobj]\n",
    "#         print(imeds)\n",
    "        obs_im = m.get_cutout(imeds, self._icutout)\n",
    "\n",
    "        jac = m.get_jacobian(imeds, self._icutout)\n",
    "        wcs = galsim.JacobianWCS(jac[\"dudcol\"], jac[\"dudrow\"], jac[\"dvdcol\"], jac[\"dvdrow\"])\n",
    "\n",
    "        obs_ii = galsim.Image(obs_im, wcs=wcs)  \n",
    "        \n",
    "        # re color segmentation maps to catch same objects in different bands\n",
    "        seg_ii = None\n",
    "        if seg:\n",
    "            seg_ii = m.get_cutout(imeds, self._icutout, \"seg\") \n",
    "\n",
    "        orig_x = m[\"orig_col\"][imeds, 0]\n",
    "        orig_y = m[\"orig_row\"][imeds, 0]    \n",
    "        orig_pos = galsim.PositionD(orig_x, orig_y)\n",
    "        des_psf = galsim.des.DES_PSFEx(self.psfex_files[iband], wcs=wcs)\n",
    "        psf = des_psf.getPSF(orig_pos)    \n",
    "\n",
    "        flux = self.mof[self.fluxcol][iobj, iband]\n",
    "        band_pars = list(self.mof[self.mode + \"_pars\"][iobj, :-nbands])\n",
    "        band_pars = np.array(band_pars + [flux,])\n",
    "        \n",
    "        if self.mode == \"bdf\":\n",
    "            galmaker = ngmix.gmix.GMixBDF(band_pars)\n",
    "        elif self.mode == \"cm\":\n",
    "            galmaker = ngmix.gmix.GMixModel(band_pars, mode=\"cm\")\n",
    "            \n",
    "        gal = galmaker.make_galsim_object()\n",
    "\n",
    "        gal = galsim.Convolve(gal, psf)\n",
    "\n",
    "        gal_ii = gal.drawImage(nx=obs_ii.array.shape[0], ny=obs_ii.array.shape[1],\n",
    "                               wcs=wcs)   \n",
    "        return obs_ii, gal_ii, seg_ii        \n",
    "        \n",
    "    def draw_postage(self, fname_root=None, seg=False):\n",
    "\n",
    "        for iobj in np.arange(len(self.mof)):\n",
    "            g_obs, g_gal, seg_g_ii = self.get_cutouts(iobj, 0, seg=seg)\n",
    "            r_obs, r_gal, seg_r_ii = self.get_cutouts(iobj, 1, seg=seg)\n",
    "            i_obs, i_gal, seg_i_ii = self.get_cutouts(iobj, 2, seg=seg)\n",
    "\n",
    "            mv = np.min((g_obs.array, r_obs.array, i_obs.array))\n",
    "            mos_g = np.hstack([g_obs.array - mv, g_gal.array- mv, g_obs.array - g_gal.array - mv])\n",
    "            mos_r = np.hstack([r_obs.array - mv, r_gal.array- mv, r_obs.array - r_gal.array - mv])\n",
    "            mos_i = np.hstack([i_obs.array - mv, i_gal.array- mv, i_obs.array - i_gal.array - mv])\n",
    "\n",
    "            factor = 0.02\n",
    "            scales = np.array([1., 1., 1.3]) * factor\n",
    "            nonlinear = 0.5\n",
    "            clip = None        \n",
    "\n",
    "            obs_im = images.get_color_image(mos_i, mos_r, mos_g,\n",
    "                                            nonlinear=nonlinear, clip=clip, scales=scales)    \n",
    "\n",
    "            fig, axarr = plt.subplots(ncols=3, nrows=3, figsize=(9, 9))\n",
    "            fig.subplots_adjust(hspace=0.04, wspace=-0.01)\n",
    "            faxarr = axarr.flatten()\n",
    "\n",
    "            for ax in faxarr:\n",
    "                \n",
    "                ax.set_xticks([])\n",
    "                ax.set_yticks([])\n",
    "            \n",
    "            if seg is not None:\n",
    "                            \n",
    "                objids = list(set(list(np.unique(seg_g_ii)) + list(np.unique(seg_r_ii)) + list(np.unique(seg_i_ii))))\n",
    "                \n",
    "                for i, oseg in enumerate(objids):    \n",
    "                    seg_g_ii[seg_g_ii == oseg] = i\n",
    "                    seg_r_ii[seg_r_ii == oseg] = i\n",
    "                    seg_i_ii[seg_i_ii == oseg] = i\n",
    "                \n",
    "                cmap = plt.cm.inferno\n",
    "                axarr[0, 0].imshow(seg_g_ii, cmap=cmap)\n",
    "                axarr[0, 0].text(0.05, 0.05, \"SEGMAP\", color=\"white\", transform=axarr[0,0].transAxes)\n",
    "                axarr[0, 1].axis(\"off\")\n",
    "                axarr[0, 2].axis(\"off\")\n",
    "#                 axarr[0, 1].imshow(seg_r_ii, cmap=cmap)\n",
    "#                 axarr[0, 2].imshow(seg_i_ii, cmap=cmap)\n",
    "\n",
    "            ysize = int(obs_im.shape[0])    \n",
    "            xsize = int(obs_im.shape[1])\n",
    "            axarr[1, 0].imshow(obs_im[:, :ysize] / obs_im.max())\n",
    "            axarr[1, 1].imshow(obs_im[:, ysize:2*ysize] / obs_im.max())\n",
    "            axarr[1, 2].imshow(obs_im[:, 2*ysize:] / obs_im.max())\n",
    "\n",
    "            mos = mos_g + mos_r + mos_i\n",
    "\n",
    "            vmin = mos.min()\n",
    "            vmax = mos.max()\n",
    "        \n",
    "            cim = axarr[2, 0].imshow(mos[:, :ysize], vmin=vmin, vmax=vmax)\n",
    "            cim = axarr[2, 1].imshow(mos[:, ysize:2*ysize], vmin=vmin, vmax=vmax)\n",
    "            cim = axarr[2, 2].imshow(mos[:, 2*ysize:], vmin=vmin, vmax=vmax)\n",
    "            \n",
    "            position=fig.add_axes([0.9,0.125,0.01,0.24])\n",
    " \n",
    "            cb = fig.colorbar(cim, position)\n",
    "            cb.set_label(\"g + r + i flux\")\n",
    "\n",
    "            fig.text(0.4, 0.65, \"ID: {:d}\".format(mof[\"id\"][iobj]),\n",
    "                     fontsize=16)\n",
    "            \n",
    "            if fname_root is not None:\n",
    "                fig.savefig(fname_root + \"_\" + str(iobj) + \".pdf\", dpi=300, bbox_inches=\"tight\")    \n",
    "                fig.savefig(fname_root + \"_\" + str(iobj) + \".png\", dpi=300, bbox_inches=\"tight\")            \n",
    "#             return fig, axarr"
   ]
  },
  {
   "cell_type": "markdown",
   "metadata": {},
   "source": [
    "# Postage rendered"
   ]
  },
  {
   "cell_type": "code",
   "execution_count": 217,
   "metadata": {},
   "outputs": [],
   "source": [
    "mof = allmofs[[10353, 7424, 9237]]\n",
    "# mof = allmofs[[10353,]]"
   ]
  },
  {
   "cell_type": "code",
   "execution_count": 218,
   "metadata": {},
   "outputs": [
    {
     "name": "stderr",
     "output_type": "stream",
     "text": [
      "Clipping input data to the valid range for imshow with RGB data ([0..1] for floats or [0..255] for integers).\n",
      "Clipping input data to the valid range for imshow with RGB data ([0..1] for floats or [0..255] for integers).\n",
      "Clipping input data to the valid range for imshow with RGB data ([0..1] for floats or [0..255] for integers).\n"
     ]
    },
    {
     "data": {
      "image/png": "[encoded data removed]",
      "text/plain": [
       "<Figure size 648x648 with 10 Axes>"
      ]
     },
     "metadata": {},
     "output_type": "display_data"
    },
    {
     "data": {
      "image/png": "[encoded data removed]",
      "text/plain": [
       "<Figure size 648x648 with 10 Axes>"
      ]
     },
     "metadata": {},
     "output_type": "display_data"
    },
    {
     "data": {
      "image/png": "[encoded data removed]",
      "text/plain": [
       "<Figure size 648x648 with 10 Axes>"
      ]
     },
     "metadata": {},
     "output_type": "display_data"
    }
   ],
   "source": [
    "cpost = ComparePostage(mof, mms, psfex_paths)\n",
    "cpost.draw_postage(seg=True)"
   ]
  },
  {
   "cell_type": "code",
   "execution_count": null,
   "metadata": {},
   "outputs": [],
   "source": []
  },
  {
   "cell_type": "code",
   "execution_count": 200,
   "metadata": {},
   "outputs": [],
   "source": [
    "tmp = fio.read(\"/e/eser2/vargatn/DES/Y3_DATA/COSMOS_C01_r3766p01_mof.fits\")"
   ]
  },
  {
   "cell_type": "code",
   "execution_count": 14,
   "metadata": {},
   "outputs": [
    {
     "data": {
      "text/plain": [
       "(array([ 757.,  228.,  312.,  683., 8311., 2987.,  154.,   79.,   68.,\n",
       "         194.]),\n",
       " array([0. , 0.1, 0.2, 0.3, 0.4, 0.5, 0.6, 0.7, 0.8, 0.9, 1. ]),\n",
       " <a list of 10 Patch objects>)"
      ]
     },
     "execution_count": 14,
     "metadata": {},
     "output_type": "execute_result"
    },
    {
     "data": {
      "image/png": "[encoded data removed]",
      "text/plain": [
       "<Figure size 432x288 with 1 Axes>"
      ]
     },
     "metadata": {},
     "output_type": "display_data"
    }
   ],
   "source": [
    "inds = allmofs[\"flags\"] == 0\n",
    "plt.hist(allmofs[\"bdf_pars\"][inds, 5])"
   ]
  },
  {
   "cell_type": "code",
   "execution_count": 132,
   "metadata": {},
   "outputs": [
    {
     "data": {
      "text/plain": [
       "(1, 4)"
      ]
     },
     "execution_count": 132,
     "metadata": {},
     "output_type": "execute_result"
    }
   ],
   "source": [
    "mof[\"bdf_flux\"].shape"
   ]
  },
  {
   "cell_type": "code",
   "execution_count": 131,
   "metadata": {},
   "outputs": [
    {
     "data": {
      "text/plain": [
       "(10,)"
      ]
     },
     "execution_count": 131,
     "metadata": {},
     "output_type": "execute_result"
    }
   ],
   "source": [
    "mof[\"bdf_pars\"][-1].shape"
   ]
  },
  {
   "cell_type": "code",
   "execution_count": 129,
   "metadata": {},
   "outputs": [
    {
     "data": {
      "text/plain": [
       "(9,)"
      ]
     },
     "execution_count": 129,
     "metadata": {},
     "output_type": "execute_result"
    }
   ],
   "source": [
    "tmp[\"cm_pars\"][-1].shape"
   ]
  },
  {
   "cell_type": "code",
   "execution_count": 125,
   "metadata": {},
   "outputs": [
    {
     "data": {
      "text/plain": [
       "array([[-9999.        , -9999.        , -9999.        , -9999.        ],\n",
       "       [-9999.        , -9999.        , -9999.        , -9999.        ],\n",
       "       [-9999.        , -9999.        , -9999.        , -9999.        ],\n",
       "       ...,\n",
       "       [  101.66138442,   181.18842708,   208.17364311,   192.30484706],\n",
       "       [ 4127.13066122, 14833.16786719, 23692.08332877, 31529.87687425],\n",
       "       [   50.49053744,    86.41434677,   142.5037418 ,   214.84054715]])"
      ]
     },
     "execution_count": 125,
     "metadata": {},
     "output_type": "execute_result"
    }
   ],
   "source": [
    "tmp[\"cm_flux\"]"
   ]
  },
  {
   "cell_type": "code",
   "execution_count": 122,
   "metadata": {},
   "outputs": [
    {
     "data": {
      "text/plain": [
       "dtype([('id', '>i8'), ('number', '>i4'), ('ra', '>f8'), ('dec', '>f8'), ('nimage_tot', '>i4', (4,)), ('fofid', '>i8'), ('flags', '>i4'), ('time_last_fit', '>f8'), ('box_size', '>i2'), ('obj_flags', '>i4'), ('psf_flags', '>i4', (4,)), ('psf_flux', '>f8', (4,)), ('psf_flux_err', '>f8', (4,)), ('psf_mag', '>f8', (4,)), ('psf_flux_s2n', '>f8', (4,)), ('nimage_use', '>i4', (4,)), ('mask_frac', '>f8'), ('psfrec_T', '>f8'), ('psfrec_g', '>f8', (2,)), ('cm_flags', '>i4'), ('cm_pars', '>f8', (9,)), ('cm_pars_cov', '>f8', (9, 9)), ('cm_T', '>f8'), ('cm_T_err', '>f8'), ('cm_T_s2n', '>f8'), ('cm_flux_cov', '>f8', (4, 4)), ('cm_flux', '>f8', (4,)), ('cm_flux_s2n', '>f8', (4,)), ('cm_mag', '>f8', (4,)), ('cm_logsb', '>f8', (4,)), ('cm_g', '>f8', (2,)), ('cm_g_cov', '>f8', (2, 2)), ('cm_weight', '>f8'), ('cm_max_flags', '>i4'), ('cm_max_pars', '>f8', (9,)), ('cm_max_pars_cov', '>f8', (9, 9)), ('cm_max_T', '>f8'), ('cm_max_T_err', '>f8'), ('cm_max_T_s2n', '>f8'), ('cm_max_flux_cov', '>f8', (4, 4)), ('cm_max_flux', '>f8', (4,)), ('cm_max_flux_s2n', '>f8', (4,)), ('cm_max_mag', '>f8', (4,)), ('cm_max_logsb', '>f8', (4,)), ('cm_s2n_w', '>f8'), ('cm_chi2per', '>f8'), ('cm_dof', '>f8'), ('cm_flags_r', '>i4'), ('cm_s2n_r', '>f8'), ('cm_T_r', '>f8'), ('cm_psf_T_r', '>f8'), ('cm_fracdev', '>f4'), ('cm_fracdev_noclip', '>f4'), ('cm_fracdev_err', '>f4'), ('cm_TdByTe', '>f4'), ('cm_TdByTe_noclip', '>f4'), ('cm_mof_flags', '>i4'), ('cm_mof_num_itr', '>i4'), ('cm_mof_abs_diff', '>f8', (9,)), ('cm_mof_frac_diff', '>f8', (9,)), ('cm_mof_err_diff', '>f8', (9,)), ('fofind', '>i8')])"
      ]
     },
     "execution_count": 122,
     "metadata": {},
     "output_type": "execute_result"
    }
   ],
   "source": [
    "tmp.dtype"
   ]
  },
  {
   "cell_type": "code",
   "execution_count": null,
   "metadata": {},
   "outputs": [],
   "source": []
  }
 ],
 "metadata": {
  "kernelspec": {
   "display_name": "Python 3",
   "language": "python",
   "name": "python3"
  },
  "language_info": {
   "codemirror_mode": {
    "name": "ipython",
    "version": 3
   },
   "file_extension": ".py",
   "mimetype": "text/x-python",
   "name": "python",
   "nbconvert_exporter": "python",
   "pygments_lexer": "ipython3",
   "version": "3.6.5"
  },
  "toc": {
   "base_numbering": 1,
   "nav_menu": {},
   "number_sections": true,
   "sideBar": true,
   "skip_h1_title": false,
   "title_cell": "Table of Contents",
   "title_sidebar": "Contents",
   "toc_cell": false,
   "toc_position": {},
   "toc_section_display": true,
   "toc_window_display": false
  },
  "widgets": {
   "state": {},
   "version": "1.0.0"
  }
 },
 "nbformat": 4,
 "nbformat_minor": 2
}
