{
 "cells": [
  {
   "cell_type": "code",
   "execution_count": 51,
   "metadata": {},
   "outputs": [],
   "source": [
    "from __future__ import print_function\n",
    "import pickle\n",
    "import numpy as np\n",
    "import pandas as pd\n",
    "import matplotlib as mpl\n",
    "try:\n",
    "    import matplotlib.pyplot as plt\n",
    "except:\n",
    "    mpl.use(\"Agg\")\n",
    "    import matplotlib.pyplot as plt\n",
    "    \n",
    "import fitsio as fio    \n",
    "import ngmix.medsreaders\n",
    "import ngmix\n",
    "import galsim\n",
    "import galsim.des\n",
    "import images"
   ]
  },
  {
   "cell_type": "markdown",
   "metadata": {},
   "source": [
    "# Prepare DATA"
   ]
  },
  {
   "cell_type": "markdown",
   "metadata": {},
   "source": [
    "## MEDS file paths"
   ]
  },
  {
   "cell_type": "code",
   "execution_count": 4,
   "metadata": {},
   "outputs": [],
   "source": [
    "meds_g_path = \"/e/eser2/vargatn/DES/Y3_DATA/DEEP3/SN-C3_C01_r3688p01/SN-C3_C01_r3688p01_g_meds-Y3A2_DEEP.fits.fz\"\n",
    "meds_r_path = \"/e/eser2/vargatn/DES/Y3_DATA/DEEP3/SN-C3_C01_r3688p01/SN-C3_C01_r3688p01_r_meds-Y3A2_DEEP.fits.fz\"\n",
    "meds_i_path = \"/e/eser2/vargatn/DES/Y3_DATA/DEEP3/SN-C3_C01_r3688p01/SN-C3_C01_r3688p01_i_meds-Y3A2_DEEP.fits.fz\""
   ]
  },
  {
   "cell_type": "code",
   "execution_count": 5,
   "metadata": {},
   "outputs": [],
   "source": [
    "meds_paths = [\n",
    "    meds_g_path,\n",
    "    meds_r_path,\n",
    "    meds_i_path,\n",
    "]\n",
    "mms = [ngmix.medsreaders.NGMixMEDS(path) for path in meds_paths]"
   ]
  },
  {
   "cell_type": "markdown",
   "metadata": {},
   "source": [
    "## PSFex files path"
   ]
  },
  {
   "cell_type": "code",
   "execution_count": 6,
   "metadata": {},
   "outputs": [],
   "source": [
    "psfex_g_path = \"/e/eser2/vargatn/DES/Y3_DATA/DEEP3/SN-C3_C01_r3688p01/SN-C3_C01_r3688p01_g_psfcat.psf\"\n",
    "psfex_r_path = \"/e/eser2/vargatn/DES/Y3_DATA/DEEP3/SN-C3_C01_r3688p01/SN-C3_C01_r3688p01_r_psfcat.psf\"\n",
    "psfex_i_path = \"/e/eser2/vargatn/DES/Y3_DATA/DEEP3/SN-C3_C01_r3688p01/SN-C3_C01_r3688p01_i_psfcat.psf\""
   ]
  },
  {
   "cell_type": "code",
   "execution_count": 7,
   "metadata": {},
   "outputs": [],
   "source": [
    "psfex_paths = [\n",
    "    psfex_g_path,\n",
    "    psfex_r_path,\n",
    "    psfex_i_path,\n",
    "]"
   ]
  },
  {
   "cell_type": "markdown",
   "metadata": {},
   "source": [
    "## MOF path"
   ]
  },
  {
   "cell_type": "code",
   "execution_count": 52,
   "metadata": {},
   "outputs": [],
   "source": [
    "fname = \"/e/eser2/vargatn/DES/Y3_DATA/DEEP3/run-d02-SN-C3_C01_r3688p01.fits\"\n",
    "allmofs = fio.read(fname)"
   ]
  },
  {
   "cell_type": "markdown",
   "metadata": {},
   "source": [
    "# Renderer class"
   ]
  },
  {
   "cell_type": "code",
   "execution_count": 53,
   "metadata": {},
   "outputs": [],
   "source": [
    "nbands = allmofs[\"bdf_flux\"].shape[1]"
   ]
  },
  {
   "cell_type": "code",
   "execution_count": null,
   "metadata": {},
   "outputs": [],
   "source": [
    "pars = allmofs[\"bdf_pars\"][0, :-nbands]"
   ]
  },
  {
   "cell_type": "code",
   "execution_count": 48,
   "metadata": {},
   "outputs": [
    {
     "data": {
      "text/plain": [
       "'<'"
      ]
     },
     "execution_count": 48,
     "metadata": {},
     "output_type": "execute_result"
    }
   ],
   "source": [
    "mms[1][\"id\"].byteswap().newbyteorder().dtype.byteorder"
   ]
  },
  {
   "cell_type": "code",
   "execution_count": 50,
   "metadata": {},
   "outputs": [
    {
     "data": {
      "text/plain": [
       "'<'"
      ]
     },
     "execution_count": 50,
     "metadata": {},
     "output_type": "execute_result"
    }
   ],
   "source": [
    "allmofs[\"id\"].dtype.byteorder"
   ]
  },
  {
   "cell_type": "code",
   "execution_count": null,
   "metadata": {},
   "outputs": [],
   "source": []
  },
  {
   "cell_type": "code",
   "execution_count": 27,
   "metadata": {},
   "outputs": [],
   "source": [
    "class ComparePostage():\n",
    "    _icutout = 0\n",
    "    _bands = (\"g\", \"r\", \"i\", \"z\")\n",
    "    def __init__(self, moftab, mms, psfex_files=None, mode=\"bdf\"):\n",
    "        \"\"\"\n",
    "        Currently this works in both bdf and cm\n",
    "        \n",
    "        It is assumed that the psf is not in the MEDS file, but is in an external psfex file\n",
    "        \n",
    "        Parameters:\n",
    "        -----------\n",
    "        moftab: record_array\n",
    "            MOF rows to render\n",
    "        mms: list\n",
    "            list of ngmix.medsreaders.NGMixMEDS objects, one for each band\n",
    "        psfex_files: list\n",
    "            list of psfex file paths corresponding to each MEDS files\n",
    "            \n",
    "        \"\"\"\n",
    "        \n",
    "        self.mof = moftab\n",
    "        self.mms = mms\n",
    "        self.psfex_files = psfex_files\n",
    "        \n",
    "        self.medsrow = self._get_indexarray()\n",
    "        \n",
    "        self.mode = mode\n",
    "        if self.mode == \"bdf\":\n",
    "            self.fluxcol = \"bdf_flux\"\n",
    "        elif self.mode == \"cm\":\n",
    "            self.fluxcol = \"cm_flux\"\n",
    "        else: \n",
    "            raise KeyError(\"only bdf or cm mode is supported in the moment\")\n",
    "            \n",
    "        self.nbands = self.mof[self.fluxcol].shape[1]\n",
    "        \n",
    "    def _get_indexarray(self):\n",
    "        col1 = mof[\"id\"]\n",
    "        col2 = self.mms[0][\"id\"]\n",
    "        \n",
    "        if col\n",
    "        \n",
    "        imof = pd.DataFrame()\n",
    "        imof[\"mofid\"] = col1\n",
    "        \n",
    "        imeds = pd.DataFrame()\n",
    "        imeds[\"medsid\"] = col2\n",
    "        imeds[\"medsrow\"] = np.arange(len(col2)) \n",
    "        \n",
    "        tmp = pd.merge(imof, imeds, how=\"inner\", left_on=\"mofid\", right_on=\"medsid\")\n",
    "        return tmp[\"medsrow\"].values       \n",
    "        \n",
    "    def get_cutouts(self, iobj, iband, seg=False):\n",
    "        \"\"\"\n",
    "        iobj should refer to the id in the mof file,\n",
    "        and we should look up here which meds line it corresponds to. this is stored in self.medsrow\n",
    "        \"\"\"\n",
    "        m = self.mms[iband]\n",
    " \n",
    "        imeds = self.medsrow[iobj]\n",
    "        print(imeds)\n",
    "        obs_im = m.get_cutout(imeds, self._icutout)\n",
    "\n",
    "        jac = m.get_jacobian(imeds, self._icutout)\n",
    "        wcs = galsim.JacobianWCS(jac[\"dudcol\"], jac[\"dudrow\"], jac[\"dvdcol\"], jac[\"dvdrow\"])\n",
    "\n",
    "        obs_ii = galsim.Image(obs_im, wcs=wcs)  \n",
    "        \n",
    "        seg_ii = None\n",
    "        if seg:\n",
    "            seg_ii = m.get_cutout(imeds, self._icutout, \"seg\") \n",
    "\n",
    "        orig_x = m[\"orig_col\"][imeds, 0]\n",
    "        orig_y = m[\"orig_row\"][imeds, 0]    \n",
    "        orig_pos = galsim.PositionD(orig_x, orig_y)\n",
    "        des_psf = galsim.des.DES_PSFEx(self.psfex_files[iband], wcs=wcs)\n",
    "        psf = des_psf.getPSF(orig_pos)    \n",
    "\n",
    "        flux = self.mof[self.fluxcol][iobj, iband]\n",
    "        band_pars = list(self.mof[self.mode + \"_pars\"][iobj, :-nbands])\n",
    "        band_pars = np.array(band_pars + [flux,])\n",
    "        \n",
    "        if self.mode == \"bdf\":\n",
    "            galmaker = ngmix.gmix.GMixBDF(band_pars)\n",
    "        elif self.mode == \"cm\":\n",
    "            galmaker = ngmix.gmix.GMixModel(band_pars, mode=\"cm\")\n",
    "            \n",
    "        gal = galmaker.make_galsim_object()\n",
    "\n",
    "        gal = galsim.Convolve(gal, psf)\n",
    "\n",
    "        gal_ii = gal.drawImage(nx=obs_ii.array.shape[0], ny=obs_ii.array.shape[1],\n",
    "                               wcs=wcs)   \n",
    "        return obs_ii, gal_ii, seg_ii        \n",
    "        \n",
    "    def draw_postage(self, seg=False):\n",
    "\n",
    "        for iobj in np.arange(len(self.mof)):\n",
    "            g_obs, g_gal, seg_ii = self.get_cutouts(iobj, 0, seg=seg)\n",
    "            r_obs, r_gal, seg_ii = self.get_cutouts(iobj, 1, seg=seg)\n",
    "            i_obs, i_gal, seg_ii = self.get_cutouts(iobj, 2, seg=seg)\n",
    "\n",
    "            mv = np.min((g_obs.array, r_obs.array, i_obs.array))\n",
    "            mos_g = np.hstack([g_obs.array - mv, g_gal.array- mv, g_obs.array - g_gal.array - mv])\n",
    "            mos_r = np.hstack([r_obs.array - mv, r_gal.array- mv, r_obs.array - r_gal.array - mv])\n",
    "            mos_i = np.hstack([i_obs.array - mv, i_gal.array- mv, i_obs.array - i_gal.array - mv])\n",
    "\n",
    "            factor = 0.02\n",
    "            scales = np.array([1., 1., 1.3]) * factor\n",
    "            nonlinear = 0.5\n",
    "            clip = None        \n",
    "\n",
    "            obs_im = images.get_color_image(mos_i, mos_r, mos_g,\n",
    "                                            nonlinear=nonlinear, clip=clip, scales=scales)    \n",
    "\n",
    "            fig, axarr = plt.subplots(ncols=1, nrows=2, figsize=(12, 6))\n",
    "            fig.subplots_adjust(hspace=0.05)\n",
    "\n",
    "            axarr[0].set_xticks([])\n",
    "            axarr[0].set_yticks([])\n",
    "\n",
    "            axarr[0].imshow(obs_im / obs_im.max())\n",
    "\n",
    "            axarr[1].set_xticks([])\n",
    "            axarr[1].set_yticks([])\n",
    "\n",
    "            mos = mos_g + mos_r + mos_i\n",
    "\n",
    "            mos_im = mos\n",
    "            cim = axarr[1].imshow(mos_im)\n",
    "            position=fig.add_axes([0.8,0.125,0.01,0.37])\n",
    "\n",
    "            cb = fig.colorbar(cim, position)\n",
    "            cb.set_label(\"g + r + i flux\")\n",
    "\n",
    "            fig.text(0.25, 0.9, \"ID: {:d}\".format(mof[\"id\"][iobj]),\n",
    "                     fontsize=16)\n",
    "\n",
    "#             fig.savefig(\"stamps-6/test_\"+str(iobj)+\".pdf\", dpi=300, bbox_inches=\"tight\")    \n",
    "#             fig.savefig(\"stamps-6/test_\"+str(iobj)+\".png\", dpi=300, bbox_inches=\"tight\")            \n",
    "#             return fig, axarr"
   ]
  },
  {
   "cell_type": "markdown",
   "metadata": {},
   "source": [
    "# Postage rendered"
   ]
  },
  {
   "cell_type": "code",
   "execution_count": 28,
   "metadata": {},
   "outputs": [],
   "source": [
    "mof = allmofs[[10353, 7424, 9237]]\n",
    "mof = allmofs[[10353,]]"
   ]
  },
  {
   "cell_type": "code",
   "execution_count": 29,
   "metadata": {},
   "outputs": [
    {
     "ename": "ValueError",
     "evalue": "Big-endian buffer not supported on little-endian compiler",
     "output_type": "error",
     "traceback": [
      "\u001b[0;31m---------------------------------------------------------------------------\u001b[0m",
      "\u001b[0;31mValueError\u001b[0m                                Traceback (most recent call last)",
      "\u001b[0;32m<ipython-input-29-858778a2b177>\u001b[0m in \u001b[0;36m<module>\u001b[0;34m()\u001b[0m\n\u001b[0;32m----> 1\u001b[0;31m \u001b[0mcpost\u001b[0m \u001b[0;34m=\u001b[0m \u001b[0mComparePostage\u001b[0m\u001b[0;34m(\u001b[0m\u001b[0mmof\u001b[0m\u001b[0;34m,\u001b[0m \u001b[0mmms\u001b[0m\u001b[0;34m,\u001b[0m \u001b[0mpsfex_paths\u001b[0m\u001b[0;34m)\u001b[0m\u001b[0;34m\u001b[0m\u001b[0m\n\u001b[0m\u001b[1;32m      2\u001b[0m \u001b[0mcpost\u001b[0m\u001b[0;34m.\u001b[0m\u001b[0mdraw_postage\u001b[0m\u001b[0;34m(\u001b[0m\u001b[0;34m)\u001b[0m\u001b[0;34m\u001b[0m\u001b[0m\n",
      "\u001b[0;32m<ipython-input-27-5e1beda846a9>\u001b[0m in \u001b[0;36m__init__\u001b[0;34m(self, moftab, mms, psfex_files, mode)\u001b[0m\n\u001b[1;32m     23\u001b[0m         \u001b[0mself\u001b[0m\u001b[0;34m.\u001b[0m\u001b[0mpsfex_files\u001b[0m \u001b[0;34m=\u001b[0m \u001b[0mpsfex_files\u001b[0m\u001b[0;34m\u001b[0m\u001b[0m\n\u001b[1;32m     24\u001b[0m \u001b[0;34m\u001b[0m\u001b[0m\n\u001b[0;32m---> 25\u001b[0;31m         \u001b[0mself\u001b[0m\u001b[0;34m.\u001b[0m\u001b[0mmedsrow\u001b[0m \u001b[0;34m=\u001b[0m \u001b[0mself\u001b[0m\u001b[0;34m.\u001b[0m\u001b[0m_get_indexarray\u001b[0m\u001b[0;34m(\u001b[0m\u001b[0;34m)\u001b[0m\u001b[0;34m\u001b[0m\u001b[0m\n\u001b[0m\u001b[1;32m     26\u001b[0m \u001b[0;34m\u001b[0m\u001b[0m\n\u001b[1;32m     27\u001b[0m         \u001b[0mself\u001b[0m\u001b[0;34m.\u001b[0m\u001b[0mmode\u001b[0m \u001b[0;34m=\u001b[0m \u001b[0mmode\u001b[0m\u001b[0;34m\u001b[0m\u001b[0m\n",
      "\u001b[0;32m<ipython-input-27-5e1beda846a9>\u001b[0m in \u001b[0;36m_get_indexarray\u001b[0;34m(self)\u001b[0m\n\u001b[1;32m     43\u001b[0m         \u001b[0mimeds\u001b[0m\u001b[0;34m[\u001b[0m\u001b[0;34m\"medsrow\"\u001b[0m\u001b[0;34m]\u001b[0m \u001b[0;34m=\u001b[0m \u001b[0mnp\u001b[0m\u001b[0;34m.\u001b[0m\u001b[0marange\u001b[0m\u001b[0;34m(\u001b[0m\u001b[0mlen\u001b[0m\u001b[0;34m(\u001b[0m\u001b[0mself\u001b[0m\u001b[0;34m.\u001b[0m\u001b[0mmms\u001b[0m\u001b[0;34m[\u001b[0m\u001b[0;36m0\u001b[0m\u001b[0;34m]\u001b[0m\u001b[0;34m[\u001b[0m\u001b[0;34m\"id\"\u001b[0m\u001b[0;34m]\u001b[0m\u001b[0;34m)\u001b[0m\u001b[0;34m)\u001b[0m\u001b[0;34m\u001b[0m\u001b[0m\n\u001b[1;32m     44\u001b[0m \u001b[0;34m\u001b[0m\u001b[0m\n\u001b[0;32m---> 45\u001b[0;31m         \u001b[0mtmp\u001b[0m \u001b[0;34m=\u001b[0m \u001b[0mpd\u001b[0m\u001b[0;34m.\u001b[0m\u001b[0mmerge\u001b[0m\u001b[0;34m(\u001b[0m\u001b[0mimof\u001b[0m\u001b[0;34m,\u001b[0m \u001b[0mimeds\u001b[0m\u001b[0;34m,\u001b[0m \u001b[0mhow\u001b[0m\u001b[0;34m=\u001b[0m\u001b[0;34m\"inner\"\u001b[0m\u001b[0;34m,\u001b[0m \u001b[0mleft_on\u001b[0m\u001b[0;34m=\u001b[0m\u001b[0;34m\"mofid\"\u001b[0m\u001b[0;34m,\u001b[0m \u001b[0mright_on\u001b[0m\u001b[0;34m=\u001b[0m\u001b[0;34m\"medsid\"\u001b[0m\u001b[0;34m)\u001b[0m\u001b[0;34m\u001b[0m\u001b[0m\n\u001b[0m\u001b[1;32m     46\u001b[0m         \u001b[0;32mreturn\u001b[0m \u001b[0mtmp\u001b[0m\u001b[0;34m[\u001b[0m\u001b[0;34m\"medsrow\"\u001b[0m\u001b[0;34m]\u001b[0m\u001b[0;34m.\u001b[0m\u001b[0mvalues\u001b[0m\u001b[0;34m\u001b[0m\u001b[0m\n\u001b[1;32m     47\u001b[0m \u001b[0;34m\u001b[0m\u001b[0m\n",
      "\u001b[0;32m~/anaconda3/envs/galsim/lib/python3.6/site-packages/pandas/core/reshape/merge.py\u001b[0m in \u001b[0;36mmerge\u001b[0;34m(left, right, how, on, left_on, right_on, left_index, right_index, sort, suffixes, copy, indicator, validate)\u001b[0m\n\u001b[1;32m     60\u001b[0m                          \u001b[0mcopy\u001b[0m\u001b[0;34m=\u001b[0m\u001b[0mcopy\u001b[0m\u001b[0;34m,\u001b[0m \u001b[0mindicator\u001b[0m\u001b[0;34m=\u001b[0m\u001b[0mindicator\u001b[0m\u001b[0;34m,\u001b[0m\u001b[0;34m\u001b[0m\u001b[0m\n\u001b[1;32m     61\u001b[0m                          validate=validate)\n\u001b[0;32m---> 62\u001b[0;31m     \u001b[0;32mreturn\u001b[0m \u001b[0mop\u001b[0m\u001b[0;34m.\u001b[0m\u001b[0mget_result\u001b[0m\u001b[0;34m(\u001b[0m\u001b[0;34m)\u001b[0m\u001b[0;34m\u001b[0m\u001b[0m\n\u001b[0m\u001b[1;32m     63\u001b[0m \u001b[0;34m\u001b[0m\u001b[0m\n\u001b[1;32m     64\u001b[0m \u001b[0;34m\u001b[0m\u001b[0m\n",
      "\u001b[0;32m~/anaconda3/envs/galsim/lib/python3.6/site-packages/pandas/core/reshape/merge.py\u001b[0m in \u001b[0;36mget_result\u001b[0;34m(self)\u001b[0m\n\u001b[1;32m    566\u001b[0m                 self.left, self.right)\n\u001b[1;32m    567\u001b[0m \u001b[0;34m\u001b[0m\u001b[0m\n\u001b[0;32m--> 568\u001b[0;31m         \u001b[0mjoin_index\u001b[0m\u001b[0;34m,\u001b[0m \u001b[0mleft_indexer\u001b[0m\u001b[0;34m,\u001b[0m \u001b[0mright_indexer\u001b[0m \u001b[0;34m=\u001b[0m \u001b[0mself\u001b[0m\u001b[0;34m.\u001b[0m\u001b[0m_get_join_info\u001b[0m\u001b[0;34m(\u001b[0m\u001b[0;34m)\u001b[0m\u001b[0;34m\u001b[0m\u001b[0m\n\u001b[0m\u001b[1;32m    569\u001b[0m \u001b[0;34m\u001b[0m\u001b[0m\n\u001b[1;32m    570\u001b[0m         \u001b[0mldata\u001b[0m\u001b[0;34m,\u001b[0m \u001b[0mrdata\u001b[0m \u001b[0;34m=\u001b[0m \u001b[0mself\u001b[0m\u001b[0;34m.\u001b[0m\u001b[0mleft\u001b[0m\u001b[0;34m.\u001b[0m\u001b[0m_data\u001b[0m\u001b[0;34m,\u001b[0m \u001b[0mself\u001b[0m\u001b[0;34m.\u001b[0m\u001b[0mright\u001b[0m\u001b[0;34m.\u001b[0m\u001b[0m_data\u001b[0m\u001b[0;34m\u001b[0m\u001b[0m\n",
      "\u001b[0;32m~/anaconda3/envs/galsim/lib/python3.6/site-packages/pandas/core/reshape/merge.py\u001b[0m in \u001b[0;36m_get_join_info\u001b[0;34m(self)\u001b[0m\n\u001b[1;32m    775\u001b[0m         \u001b[0;32melse\u001b[0m\u001b[0;34m:\u001b[0m\u001b[0;34m\u001b[0m\u001b[0m\n\u001b[1;32m    776\u001b[0m             (left_indexer,\n\u001b[0;32m--> 777\u001b[0;31m              right_indexer) = self._get_join_indexers()\n\u001b[0m\u001b[1;32m    778\u001b[0m \u001b[0;34m\u001b[0m\u001b[0m\n\u001b[1;32m    779\u001b[0m             \u001b[0;32mif\u001b[0m \u001b[0mself\u001b[0m\u001b[0;34m.\u001b[0m\u001b[0mright_index\u001b[0m\u001b[0;34m:\u001b[0m\u001b[0;34m\u001b[0m\u001b[0m\n",
      "\u001b[0;32m~/anaconda3/envs/galsim/lib/python3.6/site-packages/pandas/core/reshape/merge.py\u001b[0m in \u001b[0;36m_get_join_indexers\u001b[0;34m(self)\u001b[0m\n\u001b[1;32m    754\u001b[0m                                   \u001b[0mself\u001b[0m\u001b[0;34m.\u001b[0m\u001b[0mright_join_keys\u001b[0m\u001b[0;34m,\u001b[0m\u001b[0;34m\u001b[0m\u001b[0m\n\u001b[1;32m    755\u001b[0m                                   \u001b[0msort\u001b[0m\u001b[0;34m=\u001b[0m\u001b[0mself\u001b[0m\u001b[0;34m.\u001b[0m\u001b[0msort\u001b[0m\u001b[0;34m,\u001b[0m\u001b[0;34m\u001b[0m\u001b[0m\n\u001b[0;32m--> 756\u001b[0;31m                                   how=self.how)\n\u001b[0m\u001b[1;32m    757\u001b[0m \u001b[0;34m\u001b[0m\u001b[0m\n\u001b[1;32m    758\u001b[0m     \u001b[0;32mdef\u001b[0m \u001b[0m_get_join_info\u001b[0m\u001b[0;34m(\u001b[0m\u001b[0mself\u001b[0m\u001b[0;34m)\u001b[0m\u001b[0;34m:\u001b[0m\u001b[0;34m\u001b[0m\u001b[0m\n",
      "\u001b[0;32m~/anaconda3/envs/galsim/lib/python3.6/site-packages/pandas/core/reshape/merge.py\u001b[0m in \u001b[0;36m_get_join_indexers\u001b[0;34m(left_keys, right_keys, sort, how, **kwargs)\u001b[0m\n\u001b[1;32m   1130\u001b[0m \u001b[0;34m\u001b[0m\u001b[0m\n\u001b[1;32m   1131\u001b[0m     \u001b[0;31m# get left & right join labels and num. of levels at each location\u001b[0m\u001b[0;34m\u001b[0m\u001b[0;34m\u001b[0m\u001b[0m\n\u001b[0;32m-> 1132\u001b[0;31m     \u001b[0mllab\u001b[0m\u001b[0;34m,\u001b[0m \u001b[0mrlab\u001b[0m\u001b[0;34m,\u001b[0m \u001b[0mshape\u001b[0m \u001b[0;34m=\u001b[0m \u001b[0mmap\u001b[0m\u001b[0;34m(\u001b[0m\u001b[0mlist\u001b[0m\u001b[0;34m,\u001b[0m \u001b[0mzip\u001b[0m\u001b[0;34m(\u001b[0m\u001b[0;34m*\u001b[0m \u001b[0mmap\u001b[0m\u001b[0;34m(\u001b[0m\u001b[0mfkeys\u001b[0m\u001b[0;34m,\u001b[0m \u001b[0mleft_keys\u001b[0m\u001b[0;34m,\u001b[0m \u001b[0mright_keys\u001b[0m\u001b[0;34m)\u001b[0m\u001b[0;34m)\u001b[0m\u001b[0;34m)\u001b[0m\u001b[0;34m\u001b[0m\u001b[0m\n\u001b[0m\u001b[1;32m   1133\u001b[0m \u001b[0;34m\u001b[0m\u001b[0m\n\u001b[1;32m   1134\u001b[0m     \u001b[0;31m# get flat i8 keys from label lists\u001b[0m\u001b[0;34m\u001b[0m\u001b[0;34m\u001b[0m\u001b[0m\n",
      "\u001b[0;32m~/anaconda3/envs/galsim/lib/python3.6/site-packages/pandas/core/reshape/merge.py\u001b[0m in \u001b[0;36m_factorize_keys\u001b[0;34m(lk, rk, sort)\u001b[0m\n\u001b[1;32m   1567\u001b[0m     \u001b[0mrizer\u001b[0m \u001b[0;34m=\u001b[0m \u001b[0mklass\u001b[0m\u001b[0;34m(\u001b[0m\u001b[0mmax\u001b[0m\u001b[0;34m(\u001b[0m\u001b[0mlen\u001b[0m\u001b[0;34m(\u001b[0m\u001b[0mlk\u001b[0m\u001b[0;34m)\u001b[0m\u001b[0;34m,\u001b[0m \u001b[0mlen\u001b[0m\u001b[0;34m(\u001b[0m\u001b[0mrk\u001b[0m\u001b[0;34m)\u001b[0m\u001b[0;34m)\u001b[0m\u001b[0;34m)\u001b[0m\u001b[0;34m\u001b[0m\u001b[0m\n\u001b[1;32m   1568\u001b[0m \u001b[0;34m\u001b[0m\u001b[0m\n\u001b[0;32m-> 1569\u001b[0;31m     \u001b[0mllab\u001b[0m \u001b[0;34m=\u001b[0m \u001b[0mrizer\u001b[0m\u001b[0;34m.\u001b[0m\u001b[0mfactorize\u001b[0m\u001b[0;34m(\u001b[0m\u001b[0mlk\u001b[0m\u001b[0;34m)\u001b[0m\u001b[0;34m\u001b[0m\u001b[0m\n\u001b[0m\u001b[1;32m   1570\u001b[0m     \u001b[0mrlab\u001b[0m \u001b[0;34m=\u001b[0m \u001b[0mrizer\u001b[0m\u001b[0;34m.\u001b[0m\u001b[0mfactorize\u001b[0m\u001b[0;34m(\u001b[0m\u001b[0mrk\u001b[0m\u001b[0;34m)\u001b[0m\u001b[0;34m\u001b[0m\u001b[0m\n\u001b[1;32m   1571\u001b[0m \u001b[0;34m\u001b[0m\u001b[0m\n",
      "\u001b[0;32mpandas/_libs/hashtable.pyx\u001b[0m in \u001b[0;36mpandas._libs.hashtable.Int64Factorizer.factorize\u001b[0;34m()\u001b[0m\n",
      "\u001b[0;31mValueError\u001b[0m: Big-endian buffer not supported on little-endian compiler"
     ]
    }
   ],
   "source": [
    "cpost = ComparePostage(mof, mms, psfex_paths)\n",
    "cpost.draw_postage()"
   ]
  },
  {
   "cell_type": "code",
   "execution_count": 130,
   "metadata": {},
   "outputs": [],
   "source": [
    "tmp = fio.read(\"/e/eser2/vargatn/DES/Y3_DATA/COSMOS_C01_r3766p01_mof.fits\")"
   ]
  },
  {
   "cell_type": "code",
   "execution_count": 14,
   "metadata": {},
   "outputs": [
    {
     "data": {
      "text/plain": [
       "(array([ 757.,  228.,  312.,  683., 8311., 2987.,  154.,   79.,   68.,\n",
       "         194.]),\n",
       " array([0. , 0.1, 0.2, 0.3, 0.4, 0.5, 0.6, 0.7, 0.8, 0.9, 1. ]),\n",
       " <a list of 10 Patch objects>)"
      ]
     },
     "execution_count": 14,
     "metadata": {},
     "output_type": "execute_result"
    },
    {
     "data": {
      "image/png": "[encoded data removed]",
      "text/plain": [
       "<Figure size 432x288 with 1 Axes>"
      ]
     },
     "metadata": {},
     "output_type": "display_data"
    }
   ],
   "source": [
    "inds = allmofs[\"flags\"] == 0\n",
    "plt.hist(allmofs[\"bdf_pars\"][inds, 5])"
   ]
  },
  {
   "cell_type": "code",
   "execution_count": 132,
   "metadata": {},
   "outputs": [
    {
     "data": {
      "text/plain": [
       "(1, 4)"
      ]
     },
     "execution_count": 132,
     "metadata": {},
     "output_type": "execute_result"
    }
   ],
   "source": [
    "mof[\"bdf_flux\"].shape"
   ]
  },
  {
   "cell_type": "code",
   "execution_count": 131,
   "metadata": {},
   "outputs": [
    {
     "data": {
      "text/plain": [
       "(10,)"
      ]
     },
     "execution_count": 131,
     "metadata": {},
     "output_type": "execute_result"
    }
   ],
   "source": [
    "mof[\"bdf_pars\"][-1].shape"
   ]
  },
  {
   "cell_type": "code",
   "execution_count": 129,
   "metadata": {},
   "outputs": [
    {
     "data": {
      "text/plain": [
       "(9,)"
      ]
     },
     "execution_count": 129,
     "metadata": {},
     "output_type": "execute_result"
    }
   ],
   "source": [
    "tmp[\"cm_pars\"][-1].shape"
   ]
  },
  {
   "cell_type": "code",
   "execution_count": 125,
   "metadata": {},
   "outputs": [
    {
     "data": {
      "text/plain": [
       "array([[-9999.        , -9999.        , -9999.        , -9999.        ],\n",
       "       [-9999.        , -9999.        , -9999.        , -9999.        ],\n",
       "       [-9999.        , -9999.        , -9999.        , -9999.        ],\n",
       "       ...,\n",
       "       [  101.66138442,   181.18842708,   208.17364311,   192.30484706],\n",
       "       [ 4127.13066122, 14833.16786719, 23692.08332877, 31529.87687425],\n",
       "       [   50.49053744,    86.41434677,   142.5037418 ,   214.84054715]])"
      ]
     },
     "execution_count": 125,
     "metadata": {},
     "output_type": "execute_result"
    }
   ],
   "source": [
    "tmp[\"cm_flux\"]"
   ]
  },
  {
   "cell_type": "code",
   "execution_count": 122,
   "metadata": {},
   "outputs": [
    {
     "data": {
      "text/plain": [
       "dtype([('id', '>i8'), ('number', '>i4'), ('ra', '>f8'), ('dec', '>f8'), ('nimage_tot', '>i4', (4,)), ('fofid', '>i8'), ('flags', '>i4'), ('time_last_fit', '>f8'), ('box_size', '>i2'), ('obj_flags', '>i4'), ('psf_flags', '>i4', (4,)), ('psf_flux', '>f8', (4,)), ('psf_flux_err', '>f8', (4,)), ('psf_mag', '>f8', (4,)), ('psf_flux_s2n', '>f8', (4,)), ('nimage_use', '>i4', (4,)), ('mask_frac', '>f8'), ('psfrec_T', '>f8'), ('psfrec_g', '>f8', (2,)), ('cm_flags', '>i4'), ('cm_pars', '>f8', (9,)), ('cm_pars_cov', '>f8', (9, 9)), ('cm_T', '>f8'), ('cm_T_err', '>f8'), ('cm_T_s2n', '>f8'), ('cm_flux_cov', '>f8', (4, 4)), ('cm_flux', '>f8', (4,)), ('cm_flux_s2n', '>f8', (4,)), ('cm_mag', '>f8', (4,)), ('cm_logsb', '>f8', (4,)), ('cm_g', '>f8', (2,)), ('cm_g_cov', '>f8', (2, 2)), ('cm_weight', '>f8'), ('cm_max_flags', '>i4'), ('cm_max_pars', '>f8', (9,)), ('cm_max_pars_cov', '>f8', (9, 9)), ('cm_max_T', '>f8'), ('cm_max_T_err', '>f8'), ('cm_max_T_s2n', '>f8'), ('cm_max_flux_cov', '>f8', (4, 4)), ('cm_max_flux', '>f8', (4,)), ('cm_max_flux_s2n', '>f8', (4,)), ('cm_max_mag', '>f8', (4,)), ('cm_max_logsb', '>f8', (4,)), ('cm_s2n_w', '>f8'), ('cm_chi2per', '>f8'), ('cm_dof', '>f8'), ('cm_flags_r', '>i4'), ('cm_s2n_r', '>f8'), ('cm_T_r', '>f8'), ('cm_psf_T_r', '>f8'), ('cm_fracdev', '>f4'), ('cm_fracdev_noclip', '>f4'), ('cm_fracdev_err', '>f4'), ('cm_TdByTe', '>f4'), ('cm_TdByTe_noclip', '>f4'), ('cm_mof_flags', '>i4'), ('cm_mof_num_itr', '>i4'), ('cm_mof_abs_diff', '>f8', (9,)), ('cm_mof_frac_diff', '>f8', (9,)), ('cm_mof_err_diff', '>f8', (9,)), ('fofind', '>i8')])"
      ]
     },
     "execution_count": 122,
     "metadata": {},
     "output_type": "execute_result"
    }
   ],
   "source": [
    "tmp.dtype"
   ]
  },
  {
   "cell_type": "code",
   "execution_count": null,
   "metadata": {},
   "outputs": [],
   "source": []
  }
 ],
 "metadata": {
  "kernelspec": {
   "display_name": "Python 3",
   "language": "python",
   "name": "python3"
  },
  "language_info": {
   "codemirror_mode": {
    "name": "ipython",
    "version": 3
   },
   "file_extension": ".py",
   "mimetype": "text/x-python",
   "name": "python",
   "nbconvert_exporter": "python",
   "pygments_lexer": "ipython3",
   "version": "3.6.5"
  },
  "toc": {
   "base_numbering": 1,
   "nav_menu": {},
   "number_sections": true,
   "sideBar": true,
   "skip_h1_title": false,
   "title_cell": "Table of Contents",
   "title_sidebar": "Contents",
   "toc_cell": false,
   "toc_position": {},
   "toc_section_display": true,
   "toc_window_display": false
  },
  "widgets": {
   "state": {},
   "version": "1.0.0"
  }
 },
 "nbformat": 4,
 "nbformat_minor": 2
}
