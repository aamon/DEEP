{
 "cells": [
  {
   "cell_type": "code",
   "execution_count": 1,
   "metadata": {},
   "outputs": [],
   "source": [
    "from __future__ import print_function\n",
    "import pickle\n",
    "import numpy as np\n",
    "import pandas as pd\n",
    "import matplotlib as mpl\n",
    "try:\n",
    "    import matplotlib.pyplot as plt\n",
    "except:\n",
    "    mpl.use(\"Agg\")\n",
    "    import matplotlib.pyplot as plt\n",
    "    \n",
    "import fitsio as fio    \n",
    "import ngmix.medsreaders\n",
    "import galsim\n",
    "import galsim.des"
   ]
  },
  {
   "cell_type": "markdown",
   "metadata": {},
   "source": [
    "# Prepare DATA"
   ]
  },
  {
   "cell_type": "markdown",
   "metadata": {},
   "source": [
    "## MEDS file paths"
   ]
  },
  {
   "cell_type": "code",
   "execution_count": 2,
   "metadata": {},
   "outputs": [],
   "source": [
    "meds_g_path = \"/e/eser2/vargatn/DES/Y3_DATA/DEEP3/SN-C3_C01_r3688p01/SN-C3_C01_r3688p01_g_meds-Y3A2_DEEP.fits.fz\"\n",
    "meds_r_path = \"/e/eser2/vargatn/DES/Y3_DATA/DEEP3/SN-C3_C01_r3688p01/SN-C3_C01_r3688p01_r_meds-Y3A2_DEEP.fits.fz\"\n",
    "meds_i_path = \"/e/eser2/vargatn/DES/Y3_DATA/DEEP3/SN-C3_C01_r3688p01/SN-C3_C01_r3688p01_i_meds-Y3A2_DEEP.fits.fz\""
   ]
  },
  {
   "cell_type": "code",
   "execution_count": 10,
   "metadata": {},
   "outputs": [],
   "source": [
    "meds_paths = [\n",
    "    meds_g_path,\n",
    "    meds_r_path,\n",
    "    meds_i_path,\n",
    "]\n",
    "mms = [ngmix.medsreaders.NGMixMEDS(path) for path in meds_paths]"
   ]
  },
  {
   "cell_type": "markdown",
   "metadata": {},
   "source": [
    "## PSFex files path"
   ]
  },
  {
   "cell_type": "code",
   "execution_count": 4,
   "metadata": {},
   "outputs": [],
   "source": [
    "psfex_g_path = \"/e/eser2/vargatn/DES/Y3_DATA/DEEP3/SN-C3_C01_r3688p01/SN-C3_C01_r3688p01_g_psfcat.psf\"\n",
    "psfex_r_path = \"/e/eser2/vargatn/DES/Y3_DATA/DEEP3/SN-C3_C01_r3688p01/SN-C3_C01_r3688p01_r_psfcat.psf\"\n",
    "psfex_i_path = \"/e/eser2/vargatn/DES/Y3_DATA/DEEP3/SN-C3_C01_r3688p01/SN-C3_C01_r3688p01_i_psfcat.psf\""
   ]
  },
  {
   "cell_type": "code",
   "execution_count": 6,
   "metadata": {},
   "outputs": [],
   "source": [
    "psfex_paths = [\n",
    "    psfex_g_path,\n",
    "    psfex_r_path,\n",
    "    psfex_i_path,\n",
    "]"
   ]
  },
  {
   "cell_type": "markdown",
   "metadata": {},
   "source": [
    "## MOF path"
   ]
  },
  {
   "cell_type": "code",
   "execution_count": 28,
   "metadata": {},
   "outputs": [],
   "source": [
    "fname = \"/e/eser2/vargatn/DES/Y3_DATA/DEEP3/run-d02-SN-C3_C01_r3688p01.fits\"\n",
    "allmofs = fio.read(fname).byteswap().newbyteorder()"
   ]
  },
  {
   "cell_type": "markdown",
   "metadata": {},
   "source": [
    "# Renderer class"
   ]
  },
  {
   "cell_type": "code",
   "execution_count": 49,
   "metadata": {},
   "outputs": [],
   "source": [
    "class ComparePostage():\n",
    "    _bands = (\"g\", \"r\", \"i\", \"z\")\n",
    "    def __init__(self, moftab, mms, psfex_files=None):\n",
    "        \"\"\"\n",
    "        Parameters:\n",
    "        -----------\n",
    "        moftab: record_array\n",
    "            MOF rows to render\n",
    "        mms: list\n",
    "            list of ngmix.medsreaders.NGMixMEDS objects, one for each band\n",
    "        psfex_files: list\n",
    "            list of psfex file paths ocr\n",
    "            \n",
    "        \"\"\"\n",
    "        self.mof = moftab\n",
    "        self.mms = mms\n",
    "        self.psfex_files = psfex_files\n",
    "        \n",
    "        self.medsrow = self._get_indexarray()\n",
    "        \n",
    "    def _get_indexarray(self):\n",
    "        imof = pd.DataFrame()\n",
    "        imof[\"mofid\"] = mof[\"id\"].byteswap().newbyteorder()\n",
    "        \n",
    "        imeds = pd.DataFrame()\n",
    "        imeds[\"medsid\"] = m[\"id\"].byteswap().newbyteorder()\n",
    "        imeds[\"medsrow\"] = np.arange(len(m[\"id\"])) \n",
    "        \n",
    "        tmp = pd.merge(imof, imeds, how=\"inner\", left_on=\"mofid\", right_on=\"medsid\")\n",
    "        return tmp[\"medsrow\"].values\n",
    "        \n",
    "        \n",
    "    def get_cutouts(self, iobj, iband):\n",
    "        \"\"\"\n",
    "        iobj should refer to the id in the mof file,\n",
    "        and we should look up here which meds line it corresponds to. this is stored in self.medsrow\n",
    "        \"\"\"\n",
    "        m = self.mms[iband]\n",
    "        obs_im = m.get_cutout(self.medsrow[iobj], icutout)\n",
    "\n",
    "        jac = m.get_jacobian(self.medsrow[iobj], icutout)\n",
    "        wcs = galsim.JacobianWCS(jac[\"dudcol\"], jac[\"dudrow\"], jac[\"dvdcol\"], jac[\"dvdrow\"])\n",
    "\n",
    "        obs_ii = galsim.Image(obs_im, wcs=wcs)  \n",
    "\n",
    "        orig_x = m[\"orig_col\"][iobj, 0]\n",
    "        orig_y = m[\"orig_row\"][iobj, 0]    \n",
    "        orig_pos = galsim.PositionD(orig_x, orig_y)\n",
    "        des_psf = galsim.des.DES_PSFEx(fnames_psfs[iband], wcs=wcs)\n",
    "        psf = des_psf.getPSF(orig_pos)    \n",
    "\n",
    "        fracdev = self.mof[\"fracdev\"].iloc[iobj]\n",
    "\n",
    "        flux = self.mof[\"flux_\"+ self._bands[iband]].iloc[iobj]\n",
    "\n",
    "        band_pars = np.zeros(7)\n",
    "        for i in np.arange(6):\n",
    "            band_pars[i] = self.mof[\"bdf_pars_\"+str(i)].iloc[iobj]\n",
    "        band_pars[6] = flux\n",
    "        galmaker = ngmix.gmix.GMixModel(band_pars, 'bdf')\n",
    "        gal = galmaker.make_galsim_object()\n",
    "\n",
    "        gal = galsim.Convolve(gal, psf)\n",
    "\n",
    "        gal_ii = gal.drawImage(nx=obs_ii.array.shape[0], ny=obs_ii.array.shape[1],\n",
    "                               wcs=wcs)   \n",
    "        return obs_ii, gal_ii        \n",
    "        \n",
    "    def draw_postage(self):\n",
    "\n",
    "        for iobj in enumerate(self.mof):\n",
    "            g_obs, g_gal = self.get_cutouts(iobj, 0)\n",
    "            r_obs, r_gal = self.get_cutouts(iobj, 1)\n",
    "            i_obs, i_gal = self.get_cutouts(iobj, 2)\n",
    "\n",
    "            mv = np.min((g_obs.array, r_obs.array, i_obs.array))\n",
    "            mos_g = np.hstack([g_obs.array - mv, g_gal.array- mv, g_obs.array - g_gal.array - mv])\n",
    "            mos_r = np.hstack([r_obs.array - mv, r_gal.array- mv, r_obs.array - r_gal.array - mv])\n",
    "            mos_i = np.hstack([i_obs.array - mv, i_gal.array- mv, i_obs.array - i_gal.array - mv])\n",
    "\n",
    "            factor = 0.02\n",
    "            scales = np.array([1., 1., 1.3]) * factor\n",
    "            nonlinear = 0.5\n",
    "            clip = None        \n",
    "\n",
    "            obs_im = images.get_color_image(mos_i, mos_r, mos_g,\n",
    "                                            nonlinear=nonlinear, clip=clip, scales=scales)    \n",
    "\n",
    "            fig, axarr = plt.subplots(ncols=1, nrows=2, figsize=(12, 6))\n",
    "            fig.subplots_adjust(hspace=0.05)\n",
    "\n",
    "            axarr[0].set_xticks([])\n",
    "            axarr[0].set_yticks([])\n",
    "\n",
    "            axarr[0].imshow(obs_im / obs_im.max())\n",
    "\n",
    "            axarr[1].set_xticks([])\n",
    "            axarr[1].set_yticks([])\n",
    "\n",
    "            mos = mos_g + mos_r + mos_i\n",
    "\n",
    "            mos_im = mos\n",
    "            cim = axarr[1].imshow(mos_im)\n",
    "            position=fig.add_axes([0.8,0.125,0.01,0.37])\n",
    "\n",
    "            cb = fig.colorbar(cim, position)\n",
    "            cb.set_label(\"g + r + i flux\")\n",
    "\n",
    "            fig.text(0.25, 0.9, \"ID: {:d}\".format(mof[\"id\"][iobj]),\n",
    "                     fontsize=16)\n",
    "\n",
    "#             fig.savefig(\"stamps-6/test_\"+str(iobj)+\".pdf\", dpi=300, bbox_inches=\"tight\")    \n",
    "#             fig.savefig(\"stamps-6/test_\"+str(iobj)+\".png\", dpi=300, bbox_inches=\"tight\")            \n",
    "#             return fig, axarr"
   ]
  },
  {
   "cell_type": "markdown",
   "metadata": {},
   "source": [
    "# Postage rendered"
   ]
  },
  {
   "cell_type": "code",
   "execution_count": 50,
   "metadata": {},
   "outputs": [],
   "source": [
    "mof = alllmofs[[10353, 7424, 9237]]\n",
    "mof = alllmofs[[10353,]]"
   ]
  },
  {
   "cell_type": "code",
   "execution_count": 51,
   "metadata": {},
   "outputs": [],
   "source": [
    "cpost = ComparePostage(mof, meds_paths, psfex_paths)"
   ]
  },
  {
   "cell_type": "code",
   "execution_count": 52,
   "metadata": {},
   "outputs": [
    {
     "ename": "AttributeError",
     "evalue": "'ComparePostage' object has no attribute 'mms'",
     "output_type": "error",
     "traceback": [
      "\u001b[0;31m---------------------------------------------------------------------------\u001b[0m",
      "\u001b[0;31mAttributeError\u001b[0m                            Traceback (most recent call last)",
      "\u001b[0;32m<ipython-input-52-857ee8e735d6>\u001b[0m in \u001b[0;36m<module>\u001b[0;34m()\u001b[0m\n\u001b[0;32m----> 1\u001b[0;31m \u001b[0mcpost\u001b[0m\u001b[0;34m.\u001b[0m\u001b[0mdraw_postage\u001b[0m\u001b[0;34m(\u001b[0m\u001b[0;34m)\u001b[0m\u001b[0;34m\u001b[0m\u001b[0m\n\u001b[0m",
      "\u001b[0;32m<ipython-input-49-04087b9823a5>\u001b[0m in \u001b[0;36mdraw_postage\u001b[0;34m(self)\u001b[0m\n\u001b[1;32m     61\u001b[0m \u001b[0;34m\u001b[0m\u001b[0m\n\u001b[1;32m     62\u001b[0m         \u001b[0;32mfor\u001b[0m \u001b[0miobj\u001b[0m \u001b[0;32min\u001b[0m \u001b[0menumerate\u001b[0m\u001b[0;34m(\u001b[0m\u001b[0mself\u001b[0m\u001b[0;34m.\u001b[0m\u001b[0mmof\u001b[0m\u001b[0;34m)\u001b[0m\u001b[0;34m:\u001b[0m\u001b[0;34m\u001b[0m\u001b[0m\n\u001b[0;32m---> 63\u001b[0;31m             \u001b[0mg_obs\u001b[0m\u001b[0;34m,\u001b[0m \u001b[0mg_gal\u001b[0m \u001b[0;34m=\u001b[0m \u001b[0mself\u001b[0m\u001b[0;34m.\u001b[0m\u001b[0mget_cutouts\u001b[0m\u001b[0;34m(\u001b[0m\u001b[0miobj\u001b[0m\u001b[0;34m,\u001b[0m \u001b[0;36m0\u001b[0m\u001b[0;34m)\u001b[0m\u001b[0;34m\u001b[0m\u001b[0m\n\u001b[0m\u001b[1;32m     64\u001b[0m             \u001b[0mr_obs\u001b[0m\u001b[0;34m,\u001b[0m \u001b[0mr_gal\u001b[0m \u001b[0;34m=\u001b[0m \u001b[0mself\u001b[0m\u001b[0;34m.\u001b[0m\u001b[0mget_cutouts\u001b[0m\u001b[0;34m(\u001b[0m\u001b[0miobj\u001b[0m\u001b[0;34m,\u001b[0m \u001b[0;36m1\u001b[0m\u001b[0;34m)\u001b[0m\u001b[0;34m\u001b[0m\u001b[0m\n\u001b[1;32m     65\u001b[0m             \u001b[0mi_obs\u001b[0m\u001b[0;34m,\u001b[0m \u001b[0mi_gal\u001b[0m \u001b[0;34m=\u001b[0m \u001b[0mself\u001b[0m\u001b[0;34m.\u001b[0m\u001b[0mget_cutouts\u001b[0m\u001b[0;34m(\u001b[0m\u001b[0miobj\u001b[0m\u001b[0;34m,\u001b[0m \u001b[0;36m2\u001b[0m\u001b[0;34m)\u001b[0m\u001b[0;34m\u001b[0m\u001b[0m\n",
      "\u001b[0;32m<ipython-input-49-04087b9823a5>\u001b[0m in \u001b[0;36mget_cutouts\u001b[0;34m(self, iobj, iband)\u001b[0m\n\u001b[1;32m     27\u001b[0m         \u001b[0;32mand\u001b[0m \u001b[0mwe\u001b[0m \u001b[0mshould\u001b[0m \u001b[0mlook\u001b[0m \u001b[0mup\u001b[0m \u001b[0mhere\u001b[0m \u001b[0mwhich\u001b[0m \u001b[0mmeds\u001b[0m \u001b[0mline\u001b[0m \u001b[0mit\u001b[0m \u001b[0mcorresponds\u001b[0m \u001b[0mto\u001b[0m\u001b[0;34m.\u001b[0m \u001b[0mthis\u001b[0m \u001b[0;32mis\u001b[0m \u001b[0mstored\u001b[0m \u001b[0;32min\u001b[0m \u001b[0mself\u001b[0m\u001b[0;34m.\u001b[0m\u001b[0mmedsrow\u001b[0m\u001b[0;34m\u001b[0m\u001b[0m\n\u001b[1;32m     28\u001b[0m         \"\"\"\n\u001b[0;32m---> 29\u001b[0;31m         \u001b[0mm\u001b[0m \u001b[0;34m=\u001b[0m \u001b[0mself\u001b[0m\u001b[0;34m.\u001b[0m\u001b[0mmms\u001b[0m\u001b[0;34m[\u001b[0m\u001b[0miband\u001b[0m\u001b[0;34m]\u001b[0m\u001b[0;34m\u001b[0m\u001b[0m\n\u001b[0m\u001b[1;32m     30\u001b[0m         \u001b[0mobs_im\u001b[0m \u001b[0;34m=\u001b[0m \u001b[0mm\u001b[0m\u001b[0;34m.\u001b[0m\u001b[0mget_cutout\u001b[0m\u001b[0;34m(\u001b[0m\u001b[0mself\u001b[0m\u001b[0;34m.\u001b[0m\u001b[0mmedsrow\u001b[0m\u001b[0;34m[\u001b[0m\u001b[0miobj\u001b[0m\u001b[0;34m]\u001b[0m\u001b[0;34m,\u001b[0m \u001b[0micutout\u001b[0m\u001b[0;34m)\u001b[0m\u001b[0;34m\u001b[0m\u001b[0m\n\u001b[1;32m     31\u001b[0m \u001b[0;34m\u001b[0m\u001b[0m\n",
      "\u001b[0;31mAttributeError\u001b[0m: 'ComparePostage' object has no attribute 'mms'"
     ]
    }
   ],
   "source": [
    "cpost.draw_postage()"
   ]
  },
  {
   "cell_type": "code",
   "execution_count": null,
   "metadata": {},
   "outputs": [],
   "source": []
  },
  {
   "cell_type": "code",
   "execution_count": null,
   "metadata": {},
   "outputs": [],
   "source": []
  }
 ],
 "metadata": {
  "kernelspec": {
   "display_name": "Python 3",
   "language": "python",
   "name": "python3"
  },
  "language_info": {
   "codemirror_mode": {
    "name": "ipython",
    "version": 3
   },
   "file_extension": ".py",
   "mimetype": "text/x-python",
   "name": "python",
   "nbconvert_exporter": "python",
   "pygments_lexer": "ipython3",
   "version": "3.6.5"
  },
  "toc": {
   "base_numbering": 1,
   "nav_menu": {},
   "number_sections": true,
   "sideBar": true,
   "skip_h1_title": false,
   "title_cell": "Table of Contents",
   "title_sidebar": "Contents",
   "toc_cell": false,
   "toc_position": {},
   "toc_section_display": true,
   "toc_window_display": false
  },
  "widgets": {
   "state": {},
   "version": "1.0.0"
  }
 },
 "nbformat": 4,
 "nbformat_minor": 2
}
