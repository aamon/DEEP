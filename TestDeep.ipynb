{
 "cells": [
  {
   "cell_type": "code",
   "execution_count": 4,
   "metadata": {},
   "outputs": [],
   "source": [
    "#! /usr/bin/env python\n",
    "# Test photometry\n",
    "# Simple plots eg. colour-colour\n",
    "# Match and compare deep data to wide, per galaxy\n",
    "\n",
    "from __future__ import print_function\n",
    "import os\n",
    "import numpy as np\n",
    "#from read_psf_cats import read_data, band_combinations\n",
    "import fitsio\n",
    "import treecorr\n",
    "import matplotlib\n",
    "#matplotlib.use('Agg')\n",
    "import matplotlib.pyplot as plt\n",
    "from astropy.io import fits\n",
    "import h5py as h\n",
    "from astropy.table import Table,join"
   ]
  },
  {
   "cell_type": "code",
   "execution_count": 7,
   "metadata": {},
   "outputs": [
    {
     "name": "stdout",
     "output_type": "stream",
     "text": [
      "Filename: /global/cscratch1/sd/aamon/deepfields/run-fmof-dv02.fits\n",
      "No.    Name      Ver    Type      Cards   Dimensions   Format\n",
      "  0  PRIMARY       1 PrimaryHDU       6   ()      \n",
      "  1  model_fits    1 BinTableHDU     63   347296R x 26C   [K, D, D, E, E, K, J, 11A, E, 2D, D, 9J, 9D, 9D, 9D, 9D, J, J, D, 9D, 9D, 81D, 9D, 9D, 81D, 9D]   \n",
      "  2  epochs_data    1 BinTableHDU     17   2993157R x 4C   [K, I, J, 18D]   \n",
      "<bound method HDUList.info of [<astropy.io.fits.hdu.image.PrimaryHDU object at 0x2aaadcfe6750>, <astropy.io.fits.hdu.table.BinTableHDU object at 0x2aaadcf7a810>, <astropy.io.fits.hdu.table.BinTableHDU object at 0x2aaadcfc8410>]>\n",
      "149.435126896 150.793280273\n",
      "ColDefs(\n",
      "    name = 'id'; format = 'K'\n",
      "    name = 'ra'; format = 'D'\n",
      "    name = 'dec'; format = 'D'\n",
      "    name = 'flux_auto'; format = 'E'\n",
      "    name = 'mag_auto'; format = 'E'\n",
      "    name = 'fof_id'; format = 'K'\n",
      "    name = 'flags'; format = 'J'\n",
      "    name = 'flagstr'; format = '11A'\n",
      "    name = 'masked_frac'; format = 'E'\n",
      "    name = 'psf_g'; format = '2D'\n",
      "    name = 'psf_T'; format = 'D'\n",
      "    name = 'psf_flux_flags'; format = '9J'\n",
      "    name = 'psf_flux'; format = '9D'\n",
      "    name = 'psf_mag'; format = '9D'\n",
      "    name = 'psf_flux_err'; format = '9D'\n",
      "    name = 'psf_flux_s2n'; format = '9D'\n",
      "    name = 'bdf_flags'; format = 'J'\n",
      "    name = 'bdf_nfev'; format = 'J'\n",
      "    name = 'bdf_s2n'; format = 'D'\n",
      "    name = 'bdf_pars'; format = '9D'\n",
      "    name = 'bdf_pars_err'; format = '9D'\n",
      "    name = 'bdf_pars_cov'; format = '81D'; dim = '(9,9)'\n",
      "    name = 'bdf_flux'; format = '9D'\n",
      "    name = 'bdf_mag'; format = '9D'\n",
      "    name = 'bdf_flux_cov'; format = '81D'; dim = '(9,9)'\n",
      "    name = 'bdf_flux_err'; format = '9D'\n",
      ")\n",
      "         bdf_mag [9]          \n",
      "------------------------------\n",
      "28.1972377059 .. 21.5286477871\n",
      "25.2632908658 .. 22.8252971712\n",
      "25.0016027334 .. 23.7226241095\n",
      "26.2850772634 .. 22.7883271443\n",
      " 24.9571858105 .. 22.226975354\n",
      "34.9996900899 .. 22.6239844406\n",
      "23.4966342879 .. 21.8008928607\n",
      "25.2535343744 .. 23.4896896522\n",
      "25.2004421561 .. 23.1330629525\n",
      "23.6034455859 .. 22.4131741033\n",
      "                           ...\n",
      "-9999000000.0 .. -9999000000.0\n",
      "26.9480261619 .. 25.1642762588\n",
      "27.3419298091 .. 22.6753522484\n",
      " 27.7283381973 .. 23.261065475\n",
      "25.8690741408 .. 24.3545304165\n",
      "27.0126330315 .. 34.8914785034\n",
      " 27.5042992388 .. 23.060514456\n",
      "25.7002927219 .. 24.1321800994\n",
      "25.3014008898 .. 35.8416645028\n",
      "35.0005236333 .. 24.4966568703\n",
      " 25.742111653 .. 23.1527587908\n",
      "Length = 347296 rows\n",
      "347296\n"
     ]
    }
   ],
   "source": [
    "#read in Erin's catalogue\n",
    "cosmosfile='/global/cscratch1/sd/aamon/deepfields/run-fmof-dv02.fits'\n",
    "\n",
    "data = fits.open(cosmosfile) \n",
    "data.info() \n",
    "print(data.info)\n",
    "deep=Table(data[1].data)\n",
    "print(min(deep['ra']),max(deep['ra']))\n",
    "\n",
    "cols = data[1].columns\n",
    "print(cols)\n",
    "\n",
    "print(deep['bdf_mag']) #ugriz YJHKs\n",
    "print(len(deep['mag_auto']))\n",
    "\n",
    "deepra=deep['ra']\n",
    "deepdec=deep['dec']"
   ]
  },
  {
   "cell_type": "code",
   "execution_count": 12,
   "metadata": {},
   "outputs": [
    {
     "data": {
      "text/plain": [
       "<matplotlib.text.Text at 0x2aab24bbfb10>"
      ]
     },
     "execution_count": 12,
     "metadata": {},
     "output_type": "execute_result"
    },
    {
     "data": {
      "image/png": "[encoded data removed]",
      "text/plain": [
       "<matplotlib.figure.Figure at 0x2aab248c69d0>"
      ]
     },
     "metadata": {
      "needs_background": "light"
     },
     "output_type": "display_data"
    }
   ],
   "source": [
    "#colour-colour\n",
    "plt.scatter(deep['bdf_mag'][2]-deep['bdf_mag'][3],deep['bdf_mag'][1]-deep['bdf_mag'][2], marker='.') #,markersize=10 )\n",
    "plt.xlabel('r-i')\n",
    "plt.ylabel('g-r')"
   ]
  },
  {
   "cell_type": "code",
   "execution_count": 14,
   "metadata": {},
   "outputs": [
    {
     "ename": "NameError",
     "evalue": "name 'SIZE' is not defined",
     "output_type": "error",
     "traceback": [
      "\u001b[0;31m\u001b[0m",
      "\u001b[0;31mNameError\u001b[0mTraceback (most recent call last)",
      "\u001b[0;32m<ipython-input-14-88e3114d4f2a>\u001b[0m in \u001b[0;36m<module>\u001b[0;34m()\u001b[0m\n\u001b[1;32m      1\u001b[0m \u001b[0;31m#size-mag\u001b[0m\u001b[0;34m\u001b[0m\u001b[0;34m\u001b[0m\u001b[0m\n\u001b[0;32m----> 2\u001b[0;31m \u001b[0mplt\u001b[0m\u001b[0;34m.\u001b[0m\u001b[0mscatter\u001b[0m\u001b[0;34m(\u001b[0m\u001b[0mdeep\u001b[0m\u001b[0;34m[\u001b[0m\u001b[0;34m'bdf_mag'\u001b[0m\u001b[0;34m]\u001b[0m\u001b[0;34m[\u001b[0m\u001b[0;36m3\u001b[0m\u001b[0;34m]\u001b[0m\u001b[0;34m,\u001b[0m\u001b[0mSIZE\u001b[0m\u001b[0;34m,\u001b[0m  \u001b[0mmarker\u001b[0m\u001b[0;34m=\u001b[0m\u001b[0;34m'.'\u001b[0m\u001b[0;34m)\u001b[0m \u001b[0;31m#,markersize=10 )\u001b[0m\u001b[0;34m\u001b[0m\u001b[0m\n\u001b[0m\u001b[1;32m      3\u001b[0m \u001b[0mplt\u001b[0m\u001b[0;34m.\u001b[0m\u001b[0mxlabel\u001b[0m\u001b[0;34m(\u001b[0m\u001b[0;34m'mag'\u001b[0m\u001b[0;34m)\u001b[0m\u001b[0;34m\u001b[0m\u001b[0m\n\u001b[1;32m      4\u001b[0m \u001b[0mplt\u001b[0m\u001b[0;34m.\u001b[0m\u001b[0mylabel\u001b[0m\u001b[0;34m(\u001b[0m\u001b[0;34m'SIZE'\u001b[0m\u001b[0;34m)\u001b[0m\u001b[0;34m\u001b[0m\u001b[0m\n",
      "\u001b[0;31mNameError\u001b[0m: name 'SIZE' is not defined"
     ]
    }
   ],
   "source": [
    "#size-mag\n",
    "plt.scatter(deep['bdf_mag'][3],SIZE,  marker='.') #,markersize=10 )\n",
    "plt.xlabel('mag')\n",
    "plt.ylabel('SIZE')"
   ]
  },
  {
   "cell_type": "code",
   "execution_count": null,
   "metadata": {},
   "outputs": [
    {
     "name": "stdout",
     "output_type": "stream",
     "text": [
      "[u'metacal', u'gold', u'bpz', u'dnf', u'redmagic', u'redmapper']\n",
      "[u'a_sed_sfd98_g', u'a_sed_sfd98_i', u'a_sed_sfd98_r', u'a_sed_sfd98_z', u'coadd_object_id', u'dec', u'delta_mag_chrom_g', u'delta_mag_chrom_i', u'delta_mag_chrom_r', u'delta_mag_chrom_z', u'delta_mag_y4_g', u'delta_mag_y4_i', u'delta_mag_y4_r', u'delta_mag_y4_z', u'ebv_sfd98', u'flags', u'flags_badregions', u'flags_footprint', u'flags_foreground', u'flags_gold', u'flags_phot', u'hpix_16384', u'n_images_g', u'n_images_i', u'n_images_r', u'n_images_z', u'ra', u'sextractor_flags_g', u'sextractor_flags_i', u'sextractor_flags_r', u'sextractor_flags_z', u'sof_cm_flux_corrected_g', u'sof_cm_flux_corrected_i', u'sof_cm_flux_corrected_r', u'sof_cm_flux_corrected_z', u'sof_cm_flux_err_g', u'sof_cm_flux_err_i', u'sof_cm_flux_err_r', u'sof_cm_flux_err_z', u'sof_cm_mag_corrected_g', u'sof_cm_mag_corrected_i', u'sof_cm_mag_corrected_r', u'sof_cm_mag_corrected_z', u'sof_cm_mag_err_g', u'sof_cm_mag_err_i', u'sof_cm_mag_err_r', u'sof_cm_mag_err_z', u'sof_flags', u'tilename']\n",
      "[ 0  3  0 ..., 23 23 23]\n",
      "399263026\n",
      "309500830\n",
      "0\n"
     ]
    },
    {
     "name": "stderr",
     "output_type": "stream",
     "text": [
      "/global/u2/a/aamon/.conda/envs/DESenv/lib/python2.7/site-packages/ipykernel_launcher.py:25: RuntimeWarning: divide by zero encountered in log10\n",
      "/global/u2/a/aamon/.conda/envs/DESenv/lib/python2.7/site-packages/ipykernel_launcher.py:25: RuntimeWarning: invalid value encountered in log10\n"
     ]
    }
   ],
   "source": [
    "#read in gold \n",
    "catname = '/global/cscratch1/sd/troxel/cats_des_y3/Y3_mastercat_v2_6_20_18.h5'\n",
    "\n",
    "f = h.File(catname,'r')\n",
    "print(f['catalog'].keys())\n",
    "print(f['catalog/gold'].keys())\n",
    "\n",
    "#FLAGS_GOLD  If you are using SExtractor quantities, you should add (FLAGS_GOLD & 1111000) = 0; and (FLAGS_BADREGIONS & 01) = 0\n",
    "\n",
    "gflag = np.array(f['catalog/gold/flags_gold'])\n",
    "print(gflag)\n",
    "\n",
    "ra = np.array(f['catalog/gold/ra'])#[star_mask] \n",
    "dec = np.array(f['catalog/gold/dec'])#[star_mask]\n",
    "print(len(ra))\n",
    "\n",
    "#cosmos only\n",
    "ra=ra[(ra<151)] # & (ra>149)]\n",
    "#dec=dec[cosmosonly]\n",
    "print(len(ra))\n",
    "ra=ra[(ra>149)]\n",
    "print(len(ra))\n",
    "\n",
    "zeropt=30\n",
    "r = zeropt- 2.5*np.log10(np.array(f['catalog/gold/sof_cm_flux_corrected_r']))#[star_mask]\n",
    "i = zeropt- 2.5*np.log10(np.array(f['catalog/gold/sof_cm_flux_corrected_i']))#[star_mask]\n",
    "z = zeropt- 2.5*np.log10(np.array(f['catalog/gold/sof_cm_flux_corrected_z']))#[star_mask]\n",
    "\n",
    "print(len(r))\n",
    "\n",
    "\"\"\"cosmosonly=np.where(  (ra<max(deep['ra'])) & (ra>min(deep['ra']))\n",
    "               &  (dec<max(deep['dec'])) & (dec>min(deep['dec']))   )\n",
    "i=i[cosmosonly]\n",
    "z=z[cosmosonly]\n",
    "r=r[cosmosonly]\n",
    "print(len(r))\"\"\"\n",
    "print(min(ra)) \n",
    "print(max(ra))\n",
    "ra=ra[np.where((i<30) & (i>0))]\n",
    "dec=dec[np.where((i<30)& (i>0))]\n",
    "z=z[np.where((i<30)& (i>0))]\n",
    "r=r[np.where((i<30)& (i>0))]\n",
    "i=i[np.where((i<30)& (i>0))]\n",
    "print(len(ra))\n",
    "\n",
    "ra[ra > 180] -= 360\n",
    "\n",
    "gold=np.column_stack((ra,dec,r,i,z))\n",
    "print(gold)\n",
    "#gold = gold[gold[:,0].argsort()][:1000000]\n",
    "print(gold)\n",
    "print(len(gold))\n",
    "goldra=gold[:,0]\n",
    "golddec=gold[:,1]\n",
    "goldr=gold[:,2]\n",
    "goldi=gold[:,3]\n",
    "goldz=gold[:,4]\n"
   ]
  },
  {
   "cell_type": "code",
   "execution_count": null,
   "metadata": {},
   "outputs": [],
   "source": [
    "#match galaxies by ra and dec\n",
    "\n",
    "from astropy.coordinates import SkyCoord\n",
    "from astropy import units as u\n",
    "\n",
    "goldcat = SkyCoord(ra=goldra*u.degree, dec=golddec*u.degree)  \n",
    "catalog = SkyCoord(ra=rastarcat*u.degree, dec=decstarcat*u.degree)  \n",
    "idx, d2d, d3d = catalog.match_to_catalog_sky(goldcat, nthneighbor=1) \n",
    "\n",
    "print(goldra[idx])\n",
    "\n",
    "print(rastarcat)"
   ]
  },
  {
   "cell_type": "code",
   "execution_count": null,
   "metadata": {},
   "outputs": [],
   "source": [
    "print(len(d2d))  \n",
    "print(d2d)\n",
    "print(d2d.arcsecond)\n",
    "plt.hist(d2d.arcsecond, 50, range=(0, 20)) #, normed=1, alpha=0.75)\n",
    "plt.xlabel('d2d (arcsec)')"
   ]
  },
  {
   "cell_type": "code",
   "execution_count": null,
   "metadata": {},
   "outputs": [],
   "source": [
    "plt.scatter(rastarcat[np.where(d2d < matchlim)]-goldra[idx][np.where(d2d < matchlim)],rastarcat[np.where(d2d < matchlim)], marker='.')\n",
    "plt.xlabel('Reserve Stars RA-GOLD RA')\n",
    "plt.ylabel('Reserve Stars RA')\n",
    "plt.ticklabel_format(useOffset=False)\n",
    "#plt.xlim(min(goldra[idx][np.where(d2d < matchlim)]),max(goldra[idx][np.where(d2d < matchlim)]) )\n",
    "plt.ylim(min(rastarcat[np.where(d2d < matchlim)]),max(rastarcat[np.where(d2d < matchlim)]) )\n",
    "plt.xlim(min(rastarcat[np.where(d2d < matchlim)]-goldra[idx][np.where(d2d < matchlim)]),max(rastarcat[np.where(d2d < matchlim)]-goldra[idx][np.where(d2d < matchlim)]) )\n",
    "print(min(goldra[idx]),max(goldra[idx]) )\n",
    "print(min(rastarcat),max(rastarcat))"
   ]
  },
  {
   "cell_type": "code",
   "execution_count": null,
   "metadata": {},
   "outputs": [],
   "source": [
    "#plot magnitudes\n",
    "fit = np.polyfit(goldr[idx][np.where(d2d < matchlim)], data['mag'][np.where(d2d < matchlim)], 1)\n",
    "fit_fn = np.poly1d(fit) \n",
    "# fit_fn is now a function which takes in x and returns an estimate for y\n",
    "\n",
    "plt.plot(goldr[idx][np.where(d2d < matchlim)], fit_fn(goldr[idx][np.where(d2d < matchlim)]), '--k')\n",
    "\n",
    "plt.scatter(goldr[idx][np.where(d2d < matchlim)], data['mag'][np.where(d2d < matchlim)], marker='.')\n",
    "plt.xlabel('GOLD r')\n",
    "plt.ylabel('Reserve Stars r')"
   ]
  },
  {
   "cell_type": "code",
   "execution_count": null,
   "metadata": {},
   "outputs": [],
   "source": []
  },
  {
   "cell_type": "code",
   "execution_count": null,
   "metadata": {},
   "outputs": [],
   "source": []
  }
 ],
 "metadata": {
  "kernelspec": {
   "display_name": "desenv",
   "language": "python",
   "name": "desenv"
  },
  "language_info": {
   "codemirror_mode": {
    "name": "ipython",
    "version": 2
   },
   "file_extension": ".py",
   "mimetype": "text/x-python",
   "name": "python",
   "nbconvert_exporter": "python",
   "pygments_lexer": "ipython2",
   "version": "2.7.13"
  }
 },
 "nbformat": 4,
 "nbformat_minor": 2
}
